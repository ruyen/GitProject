{
 "cells": [
  {
   "cell_type": "markdown",
   "metadata": {},
   "source": [
    "## The method of stock prediction with various analize method (For practice)\n",
    "- This is my python project for improving my skill\n",
    "- For stock prediction, the proposed method uses various algorithms such as statistical analysis, probability model and neural networks\n",
    "- The simple s&p500 data is used\n",
    "\n",
    "\n",
    "## 다양한 분석 기법을 활용한 주가 예측 방법 (연습) \n",
    "- 파이썬을 활용하여 다양한 분석 기법을 활용한 주가 예측 방법 구현 수행 (습작용)\n",
    "- 그냥 널리 알려져 있는 통계적 분석, 확률모델, 인공 신경망 등등 여러 방법 활용\n",
    "- 데이터 역시 단순한 종가 등 수학적 정보만 활용 \n",
    "- 어떤 분석 방법이 예측력이 좋은지, 어떻게 하면 예측력을 높일 수 있는지 등\n",
    "\n",
    "\n",
    "## 고려사항 \n",
    "- y 값의 변화 \n",
    "    - 기본적으로 학습을 위해 활용하는 y의 값이 지수값을 사용하는 경우, 성능이 떨어진다(경험상) \n",
    "    - y값을 결과적으로 up/down 등 라벨을 예측하는 쪽의 더 현실성 있다\n",
    "    - 다양한 형태의 y 값의 변화 및 성능비교 수행 \n",
    "- 지수 값 활용시 수익률로 변화 \n",
    "    - 시간이 지나면서 규모 자체가 바뀔 수 있음 (10년전의 짜장면 값과 지금 짜장면 값의 차이 존재) \n",
    "    - 전 시간 영역에서 학습을 하는 것이기 때문에 스케일 조절 필요\n",
    "        - 수익률 (미래 - 현재)/현재 , (현재 - 과거)/과거 \n",
    "\n",
    "\n",
    "\n",
    "---\n",
    "## 시도해볼것들 \n",
    "### 토픽 모델링 \n",
    "### 인공 신경망 \n",
    "### 평가 방법 \n",
    "### 비교 평가 \n",
    "--- \n",
    "## Reference \n",
    "- http://3months.tistory.com/137 \n",
    "    - 파이썬으로 선형 회귀 분석\n",
    "- http://uncoded.tistory.com/21 \n",
    "    - 파이썬으로 로지스틱 회귀 분석 구현 \n",
    "---\n",
    "    "
   ]
  },
  {
   "cell_type": "code",
   "execution_count": 160,
   "metadata": {},
   "outputs": [],
   "source": [
    "''' \n",
    "Library  \n",
    "'''\n",
    "# default \n",
    "import numpy as np \n",
    "import pandas as pd\n",
    "from pprint import pprint\n",
    "\n",
    "# For regression   \n",
    "from sklearn import linear_model \n",
    "import matplotlib.pyplot as plt \n",
    "\n"
   ]
  },
  {
   "cell_type": "markdown",
   "metadata": {},
   "source": [
    "## 1) Data read and describe part \n",
    "- using pandas, read csv file \n",
    "---\n",
    "- pandas 라이브러리를 활용하여 stock data(csv)를 읽어오자 \n",
    "- 데이터에 대한 성격을 보자 \n",
    "- 데이터 분리 622 / 82 \n"
   ]
  },
  {
   "cell_type": "code",
   "execution_count": 60,
   "metadata": {},
   "outputs": [
    {
     "data": {
      "text/html": [
       "<div>\n",
       "<style scoped>\n",
       "    .dataframe tbody tr th:only-of-type {\n",
       "        vertical-align: middle;\n",
       "    }\n",
       "\n",
       "    .dataframe tbody tr th {\n",
       "        vertical-align: top;\n",
       "    }\n",
       "\n",
       "    .dataframe thead th {\n",
       "        text-align: right;\n",
       "    }\n",
       "</style>\n",
       "<table border=\"1\" class=\"dataframe\">\n",
       "  <thead>\n",
       "    <tr style=\"text-align: right;\">\n",
       "      <th></th>\n",
       "      <th>open</th>\n",
       "      <th>high</th>\n",
       "      <th>low</th>\n",
       "      <th>close</th>\n",
       "      <th>volume</th>\n",
       "    </tr>\n",
       "  </thead>\n",
       "  <tbody>\n",
       "    <tr>\n",
       "      <th>count</th>\n",
       "      <td>619029.000000</td>\n",
       "      <td>619032.000000</td>\n",
       "      <td>619032.000000</td>\n",
       "      <td>619040.000000</td>\n",
       "      <td>6.190400e+05</td>\n",
       "    </tr>\n",
       "    <tr>\n",
       "      <th>mean</th>\n",
       "      <td>83.023334</td>\n",
       "      <td>83.778311</td>\n",
       "      <td>82.256096</td>\n",
       "      <td>83.043763</td>\n",
       "      <td>4.321823e+06</td>\n",
       "    </tr>\n",
       "    <tr>\n",
       "      <th>std</th>\n",
       "      <td>97.378769</td>\n",
       "      <td>98.207519</td>\n",
       "      <td>96.507421</td>\n",
       "      <td>97.389748</td>\n",
       "      <td>8.693610e+06</td>\n",
       "    </tr>\n",
       "    <tr>\n",
       "      <th>min</th>\n",
       "      <td>1.620000</td>\n",
       "      <td>1.690000</td>\n",
       "      <td>1.500000</td>\n",
       "      <td>1.590000</td>\n",
       "      <td>0.000000e+00</td>\n",
       "    </tr>\n",
       "    <tr>\n",
       "      <th>25%</th>\n",
       "      <td>40.220000</td>\n",
       "      <td>40.620000</td>\n",
       "      <td>39.830000</td>\n",
       "      <td>40.245000</td>\n",
       "      <td>1.070320e+06</td>\n",
       "    </tr>\n",
       "    <tr>\n",
       "      <th>50%</th>\n",
       "      <td>62.590000</td>\n",
       "      <td>63.150000</td>\n",
       "      <td>62.020000</td>\n",
       "      <td>62.620000</td>\n",
       "      <td>2.082094e+06</td>\n",
       "    </tr>\n",
       "    <tr>\n",
       "      <th>75%</th>\n",
       "      <td>94.370000</td>\n",
       "      <td>95.180000</td>\n",
       "      <td>93.540000</td>\n",
       "      <td>94.410000</td>\n",
       "      <td>4.284509e+06</td>\n",
       "    </tr>\n",
       "    <tr>\n",
       "      <th>max</th>\n",
       "      <td>2044.000000</td>\n",
       "      <td>2067.990000</td>\n",
       "      <td>2035.110000</td>\n",
       "      <td>2049.000000</td>\n",
       "      <td>6.182376e+08</td>\n",
       "    </tr>\n",
       "  </tbody>\n",
       "</table>\n",
       "</div>"
      ],
      "text/plain": [
       "                open           high            low          close  \\\n",
       "count  619029.000000  619032.000000  619032.000000  619040.000000   \n",
       "mean       83.023334      83.778311      82.256096      83.043763   \n",
       "std        97.378769      98.207519      96.507421      97.389748   \n",
       "min         1.620000       1.690000       1.500000       1.590000   \n",
       "25%        40.220000      40.620000      39.830000      40.245000   \n",
       "50%        62.590000      63.150000      62.020000      62.620000   \n",
       "75%        94.370000      95.180000      93.540000      94.410000   \n",
       "max      2044.000000    2067.990000    2035.110000    2049.000000   \n",
       "\n",
       "             volume  \n",
       "count  6.190400e+05  \n",
       "mean   4.321823e+06  \n",
       "std    8.693610e+06  \n",
       "min    0.000000e+00  \n",
       "25%    1.070320e+06  \n",
       "50%    2.082094e+06  \n",
       "75%    4.284509e+06  \n",
       "max    6.182376e+08  "
      ]
     },
     "execution_count": 60,
     "metadata": {},
     "output_type": "execute_result"
    }
   ],
   "source": [
    "'''\n",
    "date = 날짜 \n",
    "open = 시가? - 시작 시 가격  \n",
    "high = 고가 - 당일 최고가격 \n",
    "low = 저가 - 당일 최저가격 \n",
    "close = 종가 - 장 마감 가격 \n",
    "volume = 거래량 \n",
    "Name = sp500 회사이름 - 약어 \n",
    "'''\n",
    "temp_sp500_data = pd.read_csv('all_stocks_5yr.csv', header= 0, names=['date','open','high','low','close','volume','Name'])\n",
    "temp_sp500_data.describe()"
   ]
  },
  {
   "cell_type": "code",
   "execution_count": 186,
   "metadata": {},
   "outputs": [],
   "source": [
    "sp500_data = temp_sp500_data\n",
    "sp500_data = pd.concat([sp500_data, sp500_data['close'].shift(1).rename('lag1'), \n",
    "                        sp500_data['close'].shift(2).rename('lag2'), \n",
    "                        sp500_data['close'].shift(3).rename('lag3'),\n",
    "                        sp500_data['close'].shift(4).rename('lag4'), \n",
    "                        sp500_data['close'].shift(5).rename('lag5'),\n",
    "                        sp500_data['close'].shift(6).rename('lag6'), \n",
    "                        sp500_data['close'].shift(7).rename('lag7'), \n",
    "                        sp500_data['close'].shift(-1).rename('fu1'),\n",
    "                       sp500_data['close'].shift(-7).rename('fu7'),\n",
    "                       sp500_data['close'].shift(-30).rename('fu30')], \n",
    "                        axis=1).dropna()"
   ]
  },
  {
   "cell_type": "code",
   "execution_count": 188,
   "metadata": {},
   "outputs": [],
   "source": [
    "sp500_data['lag1'] = (sp500_data['close']-sp500_data['lag1'])/sp500_data['lag1']\n",
    "sp500_data['lag2'] = (sp500_data['close']-sp500_data['lag2'])/sp500_data['lag2']\n",
    "sp500_data['lag3'] = (sp500_data['close']-sp500_data['lag3'])/sp500_data['lag3']\n",
    "sp500_data['lag4'] = (sp500_data['close']-sp500_data['lag4'])/sp500_data['lag4']\n",
    "sp500_data['lag5'] = (sp500_data['close']-sp500_data['lag5'])/sp500_data['lag5']\n",
    "sp500_data['lag6'] = (sp500_data['close']-sp500_data['lag6'])/sp500_data['lag6']\n",
    "sp500_data['lag7'] = (sp500_data['close']-sp500_data['lag7'])/sp500_data['lag7']\n",
    "sp500_data['fu1'] = (sp500_data['fu1']-sp500_data['close'])/sp500_data['close']\n",
    "sp500_data['fu7'] = (sp500_data['fu7']-sp500_data['close'])/sp500_data['close']\n",
    "sp500_data['fu30'] = (sp500_data['fu30']-sp500_data['close'])/sp500_data['close']"
   ]
  },
  {
   "cell_type": "code",
   "execution_count": 189,
   "metadata": {},
   "outputs": [
    {
     "data": {
      "text/html": [
       "<div>\n",
       "<style scoped>\n",
       "    .dataframe tbody tr th:only-of-type {\n",
       "        vertical-align: middle;\n",
       "    }\n",
       "\n",
       "    .dataframe tbody tr th {\n",
       "        vertical-align: top;\n",
       "    }\n",
       "\n",
       "    .dataframe thead th {\n",
       "        text-align: right;\n",
       "    }\n",
       "</style>\n",
       "<table border=\"1\" class=\"dataframe\">\n",
       "  <thead>\n",
       "    <tr style=\"text-align: right;\">\n",
       "      <th></th>\n",
       "      <th>date</th>\n",
       "      <th>open</th>\n",
       "      <th>high</th>\n",
       "      <th>low</th>\n",
       "      <th>close</th>\n",
       "      <th>volume</th>\n",
       "      <th>Name</th>\n",
       "      <th>lag1</th>\n",
       "      <th>lag2</th>\n",
       "      <th>lag3</th>\n",
       "      <th>lag4</th>\n",
       "      <th>lag5</th>\n",
       "      <th>lag6</th>\n",
       "      <th>lag7</th>\n",
       "      <th>fu1</th>\n",
       "      <th>fu7</th>\n",
       "      <th>fu30</th>\n",
       "    </tr>\n",
       "  </thead>\n",
       "  <tbody>\n",
       "    <tr>\n",
       "      <th>7</th>\n",
       "      <td>2013-02-20</td>\n",
       "      <td>14.17</td>\n",
       "      <td>14.26</td>\n",
       "      <td>13.15</td>\n",
       "      <td>13.33</td>\n",
       "      <td>14725200</td>\n",
       "      <td>AAL</td>\n",
       "      <td>-0.065217</td>\n",
       "      <td>-0.080690</td>\n",
       "      <td>-0.047177</td>\n",
       "      <td>-0.090723</td>\n",
       "      <td>-0.065872</td>\n",
       "      <td>-0.078147</td>\n",
       "      <td>-0.096271</td>\n",
       "      <td>0.003001</td>\n",
       "      <td>0.021005</td>\n",
       "      <td>0.177044</td>\n",
       "    </tr>\n",
       "    <tr>\n",
       "      <th>8</th>\n",
       "      <td>2013-02-21</td>\n",
       "      <td>13.62</td>\n",
       "      <td>13.95</td>\n",
       "      <td>12.90</td>\n",
       "      <td>13.37</td>\n",
       "      <td>11922100</td>\n",
       "      <td>AAL</td>\n",
       "      <td>0.003001</td>\n",
       "      <td>-0.062412</td>\n",
       "      <td>-0.077931</td>\n",
       "      <td>-0.044317</td>\n",
       "      <td>-0.087995</td>\n",
       "      <td>-0.063069</td>\n",
       "      <td>-0.075380</td>\n",
       "      <td>0.014959</td>\n",
       "      <td>0.039641</td>\n",
       "      <td>0.175767</td>\n",
       "    </tr>\n",
       "  </tbody>\n",
       "</table>\n",
       "</div>"
      ],
      "text/plain": [
       "         date   open   high    low  close    volume Name      lag1      lag2  \\\n",
       "7  2013-02-20  14.17  14.26  13.15  13.33  14725200  AAL -0.065217 -0.080690   \n",
       "8  2013-02-21  13.62  13.95  12.90  13.37  11922100  AAL  0.003001 -0.062412   \n",
       "\n",
       "       lag3      lag4      lag5      lag6      lag7       fu1       fu7  \\\n",
       "7 -0.047177 -0.090723 -0.065872 -0.078147 -0.096271  0.003001  0.021005   \n",
       "8 -0.077931 -0.044317 -0.087995 -0.063069 -0.075380  0.014959  0.039641   \n",
       "\n",
       "       fu30  \n",
       "7  0.177044  \n",
       "8  0.175767  "
      ]
     },
     "execution_count": 189,
     "metadata": {},
     "output_type": "execute_result"
    }
   ],
   "source": [
    "# data 확인 \n",
    "sp500_data[:2]"
   ]
  },
  {
   "cell_type": "code",
   "execution_count": 190,
   "metadata": {},
   "outputs": [
    {
     "name": "stdout",
     "output_type": "stream",
     "text": [
      "A number of companies in sp500 data is  505\n"
     ]
    }
   ],
   "source": [
    "print('A number of companies in sp500 data is ', len(list(set(sp500_data['Name']))) ) "
   ]
  },
  {
   "cell_type": "code",
   "execution_count": 191,
   "metadata": {},
   "outputs": [
    {
     "name": "stdout",
     "output_type": "stream",
     "text": [
      "618992\n"
     ]
    }
   ],
   "source": [
    "#split data \n",
    "print(len(sp500_data))\n",
    "_622_data = sp500_data[0:int(len(sp500_data)*0.6)]\n",
    "_622_data_eval = sp500_data[int(len(sp500_data)*0.6)+1:int(len(sp500_data)*0.8)]\n",
    "_622_data_test = sp500_data[int(len(sp500_data)*0.8)+1:-1]\n",
    "\n",
    "_82_data = sp500_data[0:int(len(sp500_data)*0.8)]\n",
    "_82_data_eval = sp500_data[int(len(sp500_data)*0.8)+1:-1]\n",
    "\n",
    "\n"
   ]
  },
  {
   "cell_type": "code",
   "execution_count": 192,
   "metadata": {},
   "outputs": [
    {
     "data": {
      "text/html": [
       "<div>\n",
       "<style scoped>\n",
       "    .dataframe tbody tr th:only-of-type {\n",
       "        vertical-align: middle;\n",
       "    }\n",
       "\n",
       "    .dataframe tbody tr th {\n",
       "        vertical-align: top;\n",
       "    }\n",
       "\n",
       "    .dataframe thead th {\n",
       "        text-align: right;\n",
       "    }\n",
       "</style>\n",
       "<table border=\"1\" class=\"dataframe\">\n",
       "  <thead>\n",
       "    <tr style=\"text-align: right;\">\n",
       "      <th></th>\n",
       "      <th>date</th>\n",
       "      <th>open</th>\n",
       "      <th>high</th>\n",
       "      <th>low</th>\n",
       "      <th>close</th>\n",
       "      <th>volume</th>\n",
       "      <th>Name</th>\n",
       "      <th>lag1</th>\n",
       "      <th>lag2</th>\n",
       "      <th>lag3</th>\n",
       "      <th>lag4</th>\n",
       "      <th>lag5</th>\n",
       "      <th>lag6</th>\n",
       "      <th>lag7</th>\n",
       "      <th>fu1</th>\n",
       "      <th>fu7</th>\n",
       "      <th>fu30</th>\n",
       "    </tr>\n",
       "  </thead>\n",
       "  <tbody>\n",
       "    <tr>\n",
       "      <th>7</th>\n",
       "      <td>2013-02-20</td>\n",
       "      <td>14.17</td>\n",
       "      <td>14.26</td>\n",
       "      <td>13.15</td>\n",
       "      <td>13.33</td>\n",
       "      <td>14725200</td>\n",
       "      <td>AAL</td>\n",
       "      <td>-0.065217</td>\n",
       "      <td>-0.080690</td>\n",
       "      <td>-0.047177</td>\n",
       "      <td>-0.090723</td>\n",
       "      <td>-0.065872</td>\n",
       "      <td>-0.078147</td>\n",
       "      <td>-0.096271</td>\n",
       "      <td>0.003001</td>\n",
       "      <td>0.021005</td>\n",
       "      <td>0.177044</td>\n",
       "    </tr>\n",
       "    <tr>\n",
       "      <th>8</th>\n",
       "      <td>2013-02-21</td>\n",
       "      <td>13.62</td>\n",
       "      <td>13.95</td>\n",
       "      <td>12.90</td>\n",
       "      <td>13.37</td>\n",
       "      <td>11922100</td>\n",
       "      <td>AAL</td>\n",
       "      <td>0.003001</td>\n",
       "      <td>-0.062412</td>\n",
       "      <td>-0.077931</td>\n",
       "      <td>-0.044317</td>\n",
       "      <td>-0.087995</td>\n",
       "      <td>-0.063069</td>\n",
       "      <td>-0.075380</td>\n",
       "      <td>0.014959</td>\n",
       "      <td>0.039641</td>\n",
       "      <td>0.175767</td>\n",
       "    </tr>\n",
       "    <tr>\n",
       "      <th>9</th>\n",
       "      <td>2013-02-22</td>\n",
       "      <td>13.57</td>\n",
       "      <td>13.60</td>\n",
       "      <td>13.21</td>\n",
       "      <td>13.57</td>\n",
       "      <td>6071400</td>\n",
       "      <td>AAL</td>\n",
       "      <td>0.014959</td>\n",
       "      <td>0.018005</td>\n",
       "      <td>-0.048387</td>\n",
       "      <td>-0.064138</td>\n",
       "      <td>-0.030021</td>\n",
       "      <td>-0.074352</td>\n",
       "      <td>-0.049054</td>\n",
       "      <td>-0.040531</td>\n",
       "      <td>0.035372</td>\n",
       "      <td>0.167281</td>\n",
       "    </tr>\n",
       "  </tbody>\n",
       "</table>\n",
       "</div>"
      ],
      "text/plain": [
       "         date   open   high    low  close    volume Name      lag1      lag2  \\\n",
       "7  2013-02-20  14.17  14.26  13.15  13.33  14725200  AAL -0.065217 -0.080690   \n",
       "8  2013-02-21  13.62  13.95  12.90  13.37  11922100  AAL  0.003001 -0.062412   \n",
       "9  2013-02-22  13.57  13.60  13.21  13.57   6071400  AAL  0.014959  0.018005   \n",
       "\n",
       "       lag3      lag4      lag5      lag6      lag7       fu1       fu7  \\\n",
       "7 -0.047177 -0.090723 -0.065872 -0.078147 -0.096271  0.003001  0.021005   \n",
       "8 -0.077931 -0.044317 -0.087995 -0.063069 -0.075380  0.014959  0.039641   \n",
       "9 -0.048387 -0.064138 -0.030021 -0.074352 -0.049054 -0.040531  0.035372   \n",
       "\n",
       "       fu30  \n",
       "7  0.177044  \n",
       "8  0.175767  \n",
       "9  0.167281  "
      ]
     },
     "execution_count": 192,
     "metadata": {},
     "output_type": "execute_result"
    }
   ],
   "source": [
    "_622_data[:3]"
   ]
  },
  {
   "cell_type": "markdown",
   "metadata": {},
   "source": [
    "\n",
    "## 2) 회귀모델 적용(regression model) \n",
    "- 선형 회귀 모델을 이용한 지수 예측 \n",
    "- 로지스틱 회귀 모델을 이용한 up/down 예측 \n",
    "- 기타 \n",
    "\n",
    "### [1] 단순 선형 회귀 모형 \n",
    "- 단순 선형 회귀 모델로 Y(결과)에 대한 X(정보)를 fitting한다 식은 아래와 같다\n",
    "- 결과물은 model.coef (정보에 대한 가중치)와 model.intercept(절편)에 저장된다 \n",
    "$$ Y \\sim  + W_{1}*lag1+...+ W_{7}*lag7 + intercept $$ \n",
    "\n"
   ]
  },
  {
   "cell_type": "code",
   "execution_count": 238,
   "metadata": {},
   "outputs": [
    {
     "name": "stdout",
     "output_type": "stream",
     "text": [
      "가중치 =  [-0.00338599  0.00205511  0.00059207 -0.00140981 -0.00137586  0.00114218\n",
      " -0.00125336] \n",
      "절편 = 0.0005793261728476748\n",
      "가중치 =  [-0.00265725  0.00194295 -0.00079439 -0.00175215 -0.00081738  0.00018786\n",
      " -0.00762894] \n",
      "절편 = 0.0039592349840759464\n",
      "가중치 =  [-2.78721671e-03 -2.65096575e-05 -2.82719242e-03 -3.62032712e-03\n",
      " -2.35453682e-03 -1.42886675e-03 -1.57456474e-02] \n",
      "절편 = 0.016296434565986388\n"
     ]
    }
   ],
   "source": [
    "#basic linear regression \n",
    "model = linear_model.LinearRegression()\n",
    "x_vars1 = ['lag1','lag2','lag3','lag4','lag5','lag6','lag7']\n",
    "model_1_1 = model.fit(_622_data[x_vars1], _622_data[\"fu1\"]) # model.fit(x,y)\n",
    "model = linear_model.LinearRegression()\n",
    "model_1_7 = model.fit(_622_data[x_vars1], _622_data[\"fu7\"]) # model.fit(x,y)\n",
    "model = linear_model.LinearRegression()\n",
    "model_1_30 = model.fit(_622_data[x_vars1], _622_data[\"fu30\"]) # model.fit(x,y)\n",
    "print(\"가중치 = \", model_1_1.coef_, \"\\n절편 =\", model_1_1.intercept_)\n",
    "print(\"가중치 = \", model_1_7.coef_, \"\\n절편 =\", model_1_7.intercept_)\n",
    "print(\"가중치 = \", model_1_30.coef_, \"\\n절편 =\", model_1_30.intercept_)\n"
   ]
  },
  {
   "cell_type": "markdown",
   "metadata": {},
   "source": [
    "### [2] 교호작용을 고려한 모델 \n",
    "- 교호작용은 effect modification이라고 불리며, 한 변수에 의해 다른 변수의 효과가 변화하는 모델로 아래의 수식과 같음  \n",
    "$$ Y \\sim W_{1}*close + W_{2}*lag1+...+ W_{n}*(diff1* volume/max\\;volume) + intercept $$ \n",
    "- 기존의 테이블에서 diff1 = (close - lag1)/lag1 * volume/max 을 수행함"
   ]
  },
  {
   "cell_type": "code",
   "execution_count": 239,
   "metadata": {},
   "outputs": [],
   "source": [
    "_622_data = _622_data.assign(clo_vol=(_622_data['lag1'])*_622_data['volume']/_622_data['volume'].max())\n",
    "_622_data_eval = _622_data_eval.assign(clo_vol=(-_622_data_eval['lag1'])*_622_data_eval['volume']/_622_data_eval['volume'].max())\n",
    "_622_data_test = _622_data_test.assign(clo_vol=(-_622_data_test['lag1'])*_622_data_test['volume']/_622_data_test['volume'].max())"
   ]
  },
  {
   "cell_type": "code",
   "execution_count": 240,
   "metadata": {},
   "outputs": [
    {
     "name": "stdout",
     "output_type": "stream",
     "text": [
      "가중치 =  [-1.28802099e-04  2.15992405e-03  5.56489240e-04 -1.40130141e-03\n",
      " -1.32090914e-03  1.12658684e-03 -1.23585413e-03 -3.41152562e-01] \n",
      "절편 = 0.0005775203370836131\n"
     ]
    }
   ],
   "source": [
    "model2 = linear_model.LinearRegression()\n",
    "x_vars2 = ['lag1','lag2','lag3','lag4','lag5','lag6','lag7','clo_vol']\n",
    "model_2_1 = model2.fit(_622_data[x_vars2], _622_data[\"fu1\"]) # model.fit(x,y)\n",
    "model2 = linear_model.LinearRegression()\n",
    "model_2_7 = model2.fit(_622_data[x_vars2], _622_data[\"fu7\"]) # model.fit(x,y)\n",
    "model2 = linear_model.LinearRegression()\n",
    "model_2_30 = model2.fit(_622_data[x_vars2], _622_data[\"fu30\"]) # model.fit(x,y)\n",
    "\n",
    "print(\"가중치 = \", model_2_1.coef_, \"\\n절편 =\", model_2_1.intercept_)"
   ]
  },
  {
   "cell_type": "markdown",
   "metadata": {},
   "source": [
    "### [3] 평가하기 \n",
    "- 1일과 30일 에측 관련하여 MAE와 MSE 값을 도출하였다 \n",
    "- \"model 1\"은 lag의 수익률을 기반으로 피팅한 것이고 \"model 2\"는 lag의 수익률과 더불어 현재 볼륨을 이용하였다 \n",
    "\n"
   ]
  },
  {
   "cell_type": "code",
   "execution_count": 241,
   "metadata": {},
   "outputs": [
    {
     "name": "stdout",
     "output_type": "stream",
     "text": [
      "The MSE of model 1 for 1 day futuer is 0.0008195663\n",
      "The MAE of model 1 for 1 day futuer is 0.0107728672\n",
      "The MSE of model 2 for 1 day futuer is 0.0008195743\n",
      "The MAE of model 2 for 1 day futuer is 0.0107749589\n"
     ]
    }
   ],
   "source": [
    "\n",
    "print(\"The MSE of model 1 for 1 day futuer is %.10f\"% np.mean((model_1_1.predict(_622_data_test[x_vars1]) - _622_data_test['fu1']) ** 2))\n",
    "print(\"The MAE of model 1 for 1 day futuer is %.10f\"% np.mean(abs(model_1_1.predict(_622_data_test[x_vars1]) - _622_data_test['fu1'])))\n",
    "\n",
    "print(\"The MSE of model 2 for 1 day futuer is %.10f\"% np.mean((model_2_1.predict(_622_data_test[x_vars2]) - _622_data_test['fu1']) ** 2))\n",
    "print(\"The MAE of model 2 for 1 day futuer is %.10f\"% np.mean(abs(model_2_1.predict(_622_data_test[x_vars2]) - _622_data_test['fu1']) ))"
   ]
  },
  {
   "cell_type": "code",
   "execution_count": 242,
   "metadata": {},
   "outputs": [
    {
     "name": "stdout",
     "output_type": "stream",
     "text": [
      "The MSE of model 1 for 1 month futuer is 0.0220214052\n",
      "The MAE of model 1 for 1 month futuer is 0.0717871438\n",
      "The MSE of model 2 for 1 month futuer is 0.0220229661\n",
      "The MAE of model 2 for 1 month futuer is 0.0717905728\n"
     ]
    }
   ],
   "source": [
    "\n",
    "print(\"The MSE of model 1 for 1 month futuer is %.10f\"% np.mean((model_1_30.predict(_622_data_test[x_vars1]) - _622_data_test['fu30']) ** 2))\n",
    "print(\"The MAE of model 1 for 1 month futuer is %.10f\"% np.mean(abs(model_1_30.predict(_622_data_test[x_vars1]) - _622_data_test['fu30'])))\n",
    "\n",
    "\n",
    "print(\"The MSE of model 2 for 1 month futuer is %.10f\"% np.mean((model_2_30.predict(_622_data_test[x_vars2]) - _622_data_test['fu30']) ** 2))\n",
    "print(\"The MAE of model 2 for 1 month futuer is %.10f\"% np.mean(abs(model_2_30.predict(_622_data_test[x_vars2]) - _622_data_test['fu30']) ))"
   ]
  },
  {
   "cell_type": "markdown",
   "metadata": {},
   "source": [
    "### 수행한 내역 정리 및 future work \n",
    "- 회귀 분석 관련되어 작성 중 \n",
    "- 일단 회귀 분석하여 튜닝하는 작업 수행 \n",
    "- 82 데이텅"
   ]
  }
 ],
 "metadata": {
  "kernelspec": {
   "display_name": "tensor_test",
   "language": "python",
   "name": "tensor_test"
  },
  "language_info": {
   "codemirror_mode": {
    "name": "ipython",
    "version": 3
   },
   "file_extension": ".py",
   "mimetype": "text/x-python",
   "name": "python",
   "nbconvert_exporter": "python",
   "pygments_lexer": "ipython3",
   "version": "3.6.6"
  }
 },
 "nbformat": 4,
 "nbformat_minor": 2
}
