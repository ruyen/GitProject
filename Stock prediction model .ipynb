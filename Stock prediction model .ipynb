{
 "cells": [
  {
   "cell_type": "markdown",
   "metadata": {},
   "source": [
    "## The method of stock prediction with various analize method (For practice)\n",
    "- This is my python project for improving my skill\n",
    "- For stock prediction, the proposed method uses various algorithms such as statistical analysis, probability model and neural networks\n",
    "- The simple s&p500 data is used\n",
    "\n",
    "\n",
    "## 다양한 분석 기법을 활용한 주가 예측 방법 (연습) \n",
    "- 파이썬을 활용하여 다양한 분석 기법을 활용한 주가 예측 방법 구현 수행 (습작용)\n",
    "- 그냥 널리 알려져 있는 통계적 분석, 확률모델, 인공 신경망 등등 여러 방법 활용\n",
    "- 데이터 역시 단순한 종가 등 수학적 정보만 활용 \n",
    "- 어떤 분석 방법이 예측력이 좋은지, 어떻게 하면 예측력을 높일 수 있는지 등\n",
    "\n",
    "\n",
    "## 고려사항 \n",
    "- y 값의 변화 \n",
    "    - 기본적으로 학습을 위해 활용하는 y의 값이 지수값을 사용하는 경우, 성능이 떨어진다(경험상) \n",
    "    - y값을 결과적으로 up/down 등 라벨을 예측하는 쪽의 더 현실성 있다\n",
    "    - 다양한 형태의 y 값의 변화 및 성능비교 수행 \n",
    "- 지수 값 활용시 수익률로 변화 \n",
    "    - 시간이 지나면서 규모 자체가 바뀔 수 있음 (10년전의 짜장면 값과 지금 짜장면 값의 차이 존재) \n",
    "    - 전 시간 영역에서 학습을 하는 것이기 때문에 스케일 조절 필요\n",
    "        - 수익률 (미래 - 현재)/현재 , (현재 - 과거)/과거 \n",
    "- 지금 데이터에서는 각 회사들의 지수임 \n",
    "    - 각 회사별로 계산하기 \n",
    "    - 있는 데이터 기반 종합지수 구하기 \n",
    "\n",
    "\n",
    "---\n",
    "## 시도해볼것들 \n",
    "### 토픽 모델링 \n",
    "### 인공 신경망 \n",
    "### 평가 방법 \n",
    "### 비교 평가 \n",
    "--- \n",
    "## Reference \n",
    "[회귀분석]\n",
    "- http://3months.tistory.com/137 \n",
    "    - 파이썬으로 선형 회귀 분석\n",
    "- http://uncoded.tistory.com/21 \n",
    "    - 파이썬으로 로지스틱 회귀 분석 구현 \n",
    "- https://towardsdatascience.com/logistic-regression-using-python-sklearn-numpy-mnist-handwriting-recognition-matplotlib-a6b31e2b166a\n",
    "    - 파이썬 heatmap 코드(confusion matrix 시각화) \n",
    "\n",
    "  \n",
    "[LSTM-tensorflow]\n",
    "- http://www.hanbit.co.kr/media/channel/view.html?cms_code=CMS6074576268\n",
    "    - tensorflow를 기반으로 LSTM 적용 예제 = 근데 주식 단어 기반 \n",
    "- http://coolingoff.tistory.com/54 \n",
    "    - multiRNNCell 구조를 확인하기 좋은 듯 \n",
    "- https://github.com/LA-JAMES/-Encoder-Decoder-Simple-Deep-LSTM-for-Tensorflow/blob/master/lstm_seq_to_seq.py\n",
    "    - LSTM 기반 encoder/decoder 구조 \n",
    "- https://lilianweng.github.io/lil-log/2017/07/08/predict-stock-prices-using-RNN-part-1.html \n",
    "    - LSTM 주식 시장에서 구현한 것 \n",
    "\n",
    "---\n",
    "    "
   ]
  },
  {
   "cell_type": "code",
   "execution_count": 247,
   "metadata": {},
   "outputs": [],
   "source": [
    "''' \n",
    "Library  \n",
    "'''\n",
    "# default \n",
    "import numpy as np \n",
    "import pandas as pd\n",
    "from pprint import pprint\n",
    "\n",
    "# For regression   \n",
    "from sklearn import linear_model, metrics\n",
    "from sklearn.cross_validation import train_test_split\n",
    "\n",
    "import matplotlib.pyplot as plt \n",
    "import seaborn as sns\n",
    "\n"
   ]
  },
  {
   "cell_type": "markdown",
   "metadata": {},
   "source": [
    "## 1) Data read and describe part \n",
    "- using pandas, read csv file \n",
    "---\n",
    "- pandas 라이브러리를 활용하여 stock data(csv)를 읽어오자 \n",
    "- 데이터에 대한 성격을 보자 \n",
    "- 데이터 분리 622 / 82 \n"
   ]
  },
  {
   "cell_type": "code",
   "execution_count": 9,
   "metadata": {},
   "outputs": [
    {
     "data": {
      "text/html": [
       "<div>\n",
       "<style scoped>\n",
       "    .dataframe tbody tr th:only-of-type {\n",
       "        vertical-align: middle;\n",
       "    }\n",
       "\n",
       "    .dataframe tbody tr th {\n",
       "        vertical-align: top;\n",
       "    }\n",
       "\n",
       "    .dataframe thead th {\n",
       "        text-align: right;\n",
       "    }\n",
       "</style>\n",
       "<table border=\"1\" class=\"dataframe\">\n",
       "  <thead>\n",
       "    <tr style=\"text-align: right;\">\n",
       "      <th></th>\n",
       "      <th>open</th>\n",
       "      <th>high</th>\n",
       "      <th>low</th>\n",
       "      <th>close</th>\n",
       "      <th>volume</th>\n",
       "    </tr>\n",
       "  </thead>\n",
       "  <tbody>\n",
       "    <tr>\n",
       "      <th>count</th>\n",
       "      <td>619029.000000</td>\n",
       "      <td>619032.000000</td>\n",
       "      <td>619032.000000</td>\n",
       "      <td>619040.000000</td>\n",
       "      <td>6.190400e+05</td>\n",
       "    </tr>\n",
       "    <tr>\n",
       "      <th>mean</th>\n",
       "      <td>83.023334</td>\n",
       "      <td>83.778311</td>\n",
       "      <td>82.256096</td>\n",
       "      <td>83.043763</td>\n",
       "      <td>4.321823e+06</td>\n",
       "    </tr>\n",
       "    <tr>\n",
       "      <th>std</th>\n",
       "      <td>97.378769</td>\n",
       "      <td>98.207519</td>\n",
       "      <td>96.507421</td>\n",
       "      <td>97.389748</td>\n",
       "      <td>8.693610e+06</td>\n",
       "    </tr>\n",
       "    <tr>\n",
       "      <th>min</th>\n",
       "      <td>1.620000</td>\n",
       "      <td>1.690000</td>\n",
       "      <td>1.500000</td>\n",
       "      <td>1.590000</td>\n",
       "      <td>0.000000e+00</td>\n",
       "    </tr>\n",
       "    <tr>\n",
       "      <th>25%</th>\n",
       "      <td>40.220000</td>\n",
       "      <td>40.620000</td>\n",
       "      <td>39.830000</td>\n",
       "      <td>40.245000</td>\n",
       "      <td>1.070320e+06</td>\n",
       "    </tr>\n",
       "    <tr>\n",
       "      <th>50%</th>\n",
       "      <td>62.590000</td>\n",
       "      <td>63.150000</td>\n",
       "      <td>62.020000</td>\n",
       "      <td>62.620000</td>\n",
       "      <td>2.082094e+06</td>\n",
       "    </tr>\n",
       "    <tr>\n",
       "      <th>75%</th>\n",
       "      <td>94.370000</td>\n",
       "      <td>95.180000</td>\n",
       "      <td>93.540000</td>\n",
       "      <td>94.410000</td>\n",
       "      <td>4.284509e+06</td>\n",
       "    </tr>\n",
       "    <tr>\n",
       "      <th>max</th>\n",
       "      <td>2044.000000</td>\n",
       "      <td>2067.990000</td>\n",
       "      <td>2035.110000</td>\n",
       "      <td>2049.000000</td>\n",
       "      <td>6.182376e+08</td>\n",
       "    </tr>\n",
       "  </tbody>\n",
       "</table>\n",
       "</div>"
      ],
      "text/plain": [
       "                open           high            low          close  \\\n",
       "count  619029.000000  619032.000000  619032.000000  619040.000000   \n",
       "mean       83.023334      83.778311      82.256096      83.043763   \n",
       "std        97.378769      98.207519      96.507421      97.389748   \n",
       "min         1.620000       1.690000       1.500000       1.590000   \n",
       "25%        40.220000      40.620000      39.830000      40.245000   \n",
       "50%        62.590000      63.150000      62.020000      62.620000   \n",
       "75%        94.370000      95.180000      93.540000      94.410000   \n",
       "max      2044.000000    2067.990000    2035.110000    2049.000000   \n",
       "\n",
       "             volume  \n",
       "count  6.190400e+05  \n",
       "mean   4.321823e+06  \n",
       "std    8.693610e+06  \n",
       "min    0.000000e+00  \n",
       "25%    1.070320e+06  \n",
       "50%    2.082094e+06  \n",
       "75%    4.284509e+06  \n",
       "max    6.182376e+08  "
      ]
     },
     "execution_count": 9,
     "metadata": {},
     "output_type": "execute_result"
    }
   ],
   "source": [
    "'''\n",
    "date = 날짜 \n",
    "open = 시가? - 시작 시 가격  \n",
    "high = 고가 - 당일 최고가격 \n",
    "low = 저가 - 당일 최저가격 \n",
    "close = 종가 - 장 마감 가격 \n",
    "volume = 거래량 \n",
    "Name = sp500 회사이름 - 약어 \n",
    "'''\n",
    "temp_sp500_data = pd.read_csv('all_stocks_5yr.csv', header= 0, names=['date','open','high','low','close','volume','Name'])\n",
    "temp_sp500_data.describe()"
   ]
  },
  {
   "cell_type": "markdown",
   "metadata": {},
   "source": [
    "### 종합 지수 구하기 \n",
    "- 현재 데이터는 505 개의 기업들의 정보이고, 일단 각 기업별로 주가 예측하는 것이 아니라 시장의 상황을 예측한은 것이 목표이기 때문에 종합 지수를 구한다 \n",
    "- 종합 지수의 계산식은 다음과 같다 \n",
    "  \n",
    "$$ 비교시점의\\;시가총액/기준시점의\\;시가총액 *100 = 종합주가지수$$\n",
    "  \n",
    "  \n",
    "- 시가총액은 $종가 * Volume$으로 구하자 \n",
    "- 2013년 2월 8일의 S&P500 지수가 1517.93 임\n",
    "    - 계산해보니 59939632.241430454 정도가 기준 시가 총액인듯  \n",
    "- 날짜별로 시가 총액 계산, 기준 시점을 1961 정도로 가정하자  \n"
   ]
  },
  {
   "cell_type": "code",
   "execution_count": 10,
   "metadata": {},
   "outputs": [],
   "source": [
    "temp_sp500_data['close_vol'] = temp_sp500_data['close'] * temp_sp500_data['volume']\n",
    "temp_sp500_data['high_vol'] = temp_sp500_data['high'] * temp_sp500_data['volume']\n",
    "temp_sp500_data['low_vol'] = temp_sp500_data['low'] * temp_sp500_data['volume']\n",
    "temp_sp500_data['open_vol'] = temp_sp500_data['open'] * temp_sp500_data['volume']\n",
    "temp_sp500_data = temp_sp500_data.groupby(['date'])[['open_vol','high_vol','low_vol','close_vol']].sum()"
   ]
  },
  {
   "cell_type": "code",
   "execution_count": 11,
   "metadata": {},
   "outputs": [
    {
     "data": {
      "text/plain": [
       "1517.93"
      ]
     },
     "execution_count": 11,
     "metadata": {},
     "output_type": "execute_result"
    }
   ],
   "source": [
    "temp_sp500_data['close_vol'][0]/59939632.241430454"
   ]
  },
  {
   "cell_type": "code",
   "execution_count": 12,
   "metadata": {},
   "outputs": [],
   "source": [
    "temp_sp500_data['close_vol'] /= 59939632.241430454\n",
    "temp_sp500_data['high_vol'] /= 59939632.241430454\n",
    "temp_sp500_data['low_vol'] /= 59939632.241430454\n",
    "temp_sp500_data['open_vol'] /= 59939632.241430454"
   ]
  },
  {
   "cell_type": "code",
   "execution_count": 13,
   "metadata": {},
   "outputs": [],
   "source": [
    "sp500_data = temp_sp500_data\n",
    "sp500_data = pd.concat([sp500_data, sp500_data['close_vol'].shift(1).rename('lag1'), \n",
    "                        sp500_data['close_vol'].shift(2).rename('lag2'), \n",
    "                        sp500_data['close_vol'].shift(3).rename('lag3'),\n",
    "                        sp500_data['close_vol'].shift(4).rename('lag4'), \n",
    "                        sp500_data['close_vol'].shift(5).rename('lag5'),\n",
    "                        sp500_data['close_vol'].shift(6).rename('lag6'), \n",
    "                        sp500_data['close_vol'].shift(7).rename('lag7'), \n",
    "                        sp500_data['close_vol'].shift(-1).rename('fu1'),\n",
    "                       sp500_data['close_vol'].shift(-7).rename('fu7'),\n",
    "                       sp500_data['close_vol'].shift(-30).rename('fu30')], \n",
    "                        axis=1).dropna()"
   ]
  },
  {
   "cell_type": "code",
   "execution_count": 14,
   "metadata": {},
   "outputs": [],
   "source": [
    "sp500_data['lag1'] = (sp500_data['close_vol']-sp500_data['lag1'])/sp500_data['lag1']\n",
    "sp500_data['lag2'] = (sp500_data['close_vol']-sp500_data['lag2'])/sp500_data['lag2']\n",
    "sp500_data['lag3'] = (sp500_data['close_vol']-sp500_data['lag3'])/sp500_data['lag3']\n",
    "sp500_data['lag4'] = (sp500_data['close_vol']-sp500_data['lag4'])/sp500_data['lag4']\n",
    "sp500_data['lag5'] = (sp500_data['close_vol']-sp500_data['lag5'])/sp500_data['lag5']\n",
    "sp500_data['lag6'] = (sp500_data['close_vol']-sp500_data['lag6'])/sp500_data['lag6']\n",
    "sp500_data['lag7'] = (sp500_data['close_vol']-sp500_data['lag7'])/sp500_data['lag7']\n",
    "sp500_data['fu1'] = (sp500_data['fu1']-sp500_data['close_vol'])/sp500_data['close_vol']\n",
    "sp500_data['fu7'] = (sp500_data['fu7']-sp500_data['close_vol'])/sp500_data['close_vol']\n",
    "sp500_data['fu30'] = (sp500_data['fu30']-sp500_data['close_vol'])/sp500_data['close_vol']"
   ]
  },
  {
   "cell_type": "code",
   "execution_count": 15,
   "metadata": {},
   "outputs": [
    {
     "data": {
      "text/html": [
       "<div>\n",
       "<style scoped>\n",
       "    .dataframe tbody tr th:only-of-type {\n",
       "        vertical-align: middle;\n",
       "    }\n",
       "\n",
       "    .dataframe tbody tr th {\n",
       "        vertical-align: top;\n",
       "    }\n",
       "\n",
       "    .dataframe thead th {\n",
       "        text-align: right;\n",
       "    }\n",
       "</style>\n",
       "<table border=\"1\" class=\"dataframe\">\n",
       "  <thead>\n",
       "    <tr style=\"text-align: right;\">\n",
       "      <th></th>\n",
       "      <th>open_vol</th>\n",
       "      <th>high_vol</th>\n",
       "      <th>low_vol</th>\n",
       "      <th>close_vol</th>\n",
       "      <th>lag1</th>\n",
       "      <th>lag2</th>\n",
       "      <th>lag3</th>\n",
       "      <th>lag4</th>\n",
       "      <th>lag5</th>\n",
       "      <th>lag6</th>\n",
       "      <th>lag7</th>\n",
       "      <th>fu1</th>\n",
       "      <th>fu7</th>\n",
       "      <th>fu30</th>\n",
       "    </tr>\n",
       "    <tr>\n",
       "      <th>date</th>\n",
       "      <th></th>\n",
       "      <th></th>\n",
       "      <th></th>\n",
       "      <th></th>\n",
       "      <th></th>\n",
       "      <th></th>\n",
       "      <th></th>\n",
       "      <th></th>\n",
       "      <th></th>\n",
       "      <th></th>\n",
       "      <th></th>\n",
       "      <th></th>\n",
       "      <th></th>\n",
       "      <th></th>\n",
       "    </tr>\n",
       "  </thead>\n",
       "  <tbody>\n",
       "    <tr>\n",
       "      <th>2013-02-20</th>\n",
       "      <td>1815.199737</td>\n",
       "      <td>1824.402830</td>\n",
       "      <td>1780.073715</td>\n",
       "      <td>1785.461146</td>\n",
       "      <td>0.046659</td>\n",
       "      <td>-0.053178</td>\n",
       "      <td>0.034148</td>\n",
       "      <td>0.133162</td>\n",
       "      <td>0.120397</td>\n",
       "      <td>0.340904</td>\n",
       "      <td>0.176247</td>\n",
       "      <td>0.039050</td>\n",
       "      <td>-0.072469</td>\n",
       "      <td>-0.128791</td>\n",
       "    </tr>\n",
       "    <tr>\n",
       "      <th>2013-02-21</th>\n",
       "      <td>1865.211596</td>\n",
       "      <td>1878.768122</td>\n",
       "      <td>1836.587860</td>\n",
       "      <td>1855.182716</td>\n",
       "      <td>0.039050</td>\n",
       "      <td>0.087531</td>\n",
       "      <td>-0.016205</td>\n",
       "      <td>0.074532</td>\n",
       "      <td>0.177412</td>\n",
       "      <td>0.164148</td>\n",
       "      <td>0.393266</td>\n",
       "      <td>-0.204079</td>\n",
       "      <td>-0.177415</td>\n",
       "      <td>-0.097639</td>\n",
       "    </tr>\n",
       "  </tbody>\n",
       "</table>\n",
       "</div>"
      ],
      "text/plain": [
       "               open_vol     high_vol      low_vol    close_vol      lag1  \\\n",
       "date                                                                       \n",
       "2013-02-20  1815.199737  1824.402830  1780.073715  1785.461146  0.046659   \n",
       "2013-02-21  1865.211596  1878.768122  1836.587860  1855.182716  0.039050   \n",
       "\n",
       "                lag2      lag3      lag4      lag5      lag6      lag7  \\\n",
       "date                                                                     \n",
       "2013-02-20 -0.053178  0.034148  0.133162  0.120397  0.340904  0.176247   \n",
       "2013-02-21  0.087531 -0.016205  0.074532  0.177412  0.164148  0.393266   \n",
       "\n",
       "                 fu1       fu7      fu30  \n",
       "date                                      \n",
       "2013-02-20  0.039050 -0.072469 -0.128791  \n",
       "2013-02-21 -0.204079 -0.177415 -0.097639  "
      ]
     },
     "execution_count": 15,
     "metadata": {},
     "output_type": "execute_result"
    }
   ],
   "source": [
    "# data 확인 \n",
    "sp500_data[:2]\n"
   ]
  },
  {
   "cell_type": "code",
   "execution_count": 16,
   "metadata": {},
   "outputs": [
    {
     "name": "stdout",
     "output_type": "stream",
     "text": [
      "1222\n"
     ]
    }
   ],
   "source": [
    "#split data \n",
    "print(len(sp500_data))\n",
    "_622_data = sp500_data[0:int(len(sp500_data)*0.6)]\n",
    "_622_data_eval = sp500_data[int(len(sp500_data)*0.6)+1:int(len(sp500_data)*0.8)]\n",
    "_622_data_test = sp500_data[int(len(sp500_data)*0.8)+1:-1]\n",
    "\n",
    "_82_data = sp500_data[0:int(len(sp500_data)*0.8)]\n",
    "_82_data_eval = sp500_data[int(len(sp500_data)*0.8)+1:-1]\n",
    "\n",
    "\n"
   ]
  },
  {
   "cell_type": "code",
   "execution_count": 17,
   "metadata": {},
   "outputs": [
    {
     "data": {
      "text/html": [
       "<div>\n",
       "<style scoped>\n",
       "    .dataframe tbody tr th:only-of-type {\n",
       "        vertical-align: middle;\n",
       "    }\n",
       "\n",
       "    .dataframe tbody tr th {\n",
       "        vertical-align: top;\n",
       "    }\n",
       "\n",
       "    .dataframe thead th {\n",
       "        text-align: right;\n",
       "    }\n",
       "</style>\n",
       "<table border=\"1\" class=\"dataframe\">\n",
       "  <thead>\n",
       "    <tr style=\"text-align: right;\">\n",
       "      <th></th>\n",
       "      <th>open_vol</th>\n",
       "      <th>high_vol</th>\n",
       "      <th>low_vol</th>\n",
       "      <th>close_vol</th>\n",
       "      <th>lag1</th>\n",
       "      <th>lag2</th>\n",
       "      <th>lag3</th>\n",
       "      <th>lag4</th>\n",
       "      <th>lag5</th>\n",
       "      <th>lag6</th>\n",
       "      <th>lag7</th>\n",
       "      <th>fu1</th>\n",
       "      <th>fu7</th>\n",
       "      <th>fu30</th>\n",
       "    </tr>\n",
       "    <tr>\n",
       "      <th>date</th>\n",
       "      <th></th>\n",
       "      <th></th>\n",
       "      <th></th>\n",
       "      <th></th>\n",
       "      <th></th>\n",
       "      <th></th>\n",
       "      <th></th>\n",
       "      <th></th>\n",
       "      <th></th>\n",
       "      <th></th>\n",
       "      <th></th>\n",
       "      <th></th>\n",
       "      <th></th>\n",
       "      <th></th>\n",
       "    </tr>\n",
       "  </thead>\n",
       "  <tbody>\n",
       "    <tr>\n",
       "      <th>2013-02-20</th>\n",
       "      <td>1815.199737</td>\n",
       "      <td>1824.402830</td>\n",
       "      <td>1780.073715</td>\n",
       "      <td>1785.461146</td>\n",
       "      <td>0.046659</td>\n",
       "      <td>-0.053178</td>\n",
       "      <td>0.034148</td>\n",
       "      <td>0.133162</td>\n",
       "      <td>0.120397</td>\n",
       "      <td>0.340904</td>\n",
       "      <td>0.176247</td>\n",
       "      <td>0.039050</td>\n",
       "      <td>-0.072469</td>\n",
       "      <td>-0.128791</td>\n",
       "    </tr>\n",
       "    <tr>\n",
       "      <th>2013-02-21</th>\n",
       "      <td>1865.211596</td>\n",
       "      <td>1878.768122</td>\n",
       "      <td>1836.587860</td>\n",
       "      <td>1855.182716</td>\n",
       "      <td>0.039050</td>\n",
       "      <td>0.087531</td>\n",
       "      <td>-0.016205</td>\n",
       "      <td>0.074532</td>\n",
       "      <td>0.177412</td>\n",
       "      <td>0.164148</td>\n",
       "      <td>0.393266</td>\n",
       "      <td>-0.204079</td>\n",
       "      <td>-0.177415</td>\n",
       "      <td>-0.097639</td>\n",
       "    </tr>\n",
       "    <tr>\n",
       "      <th>2013-02-22</th>\n",
       "      <td>1470.934486</td>\n",
       "      <td>1484.539169</td>\n",
       "      <td>1457.896628</td>\n",
       "      <td>1476.579784</td>\n",
       "      <td>-0.204079</td>\n",
       "      <td>-0.172998</td>\n",
       "      <td>-0.134411</td>\n",
       "      <td>-0.216977</td>\n",
       "      <td>-0.144757</td>\n",
       "      <td>-0.062873</td>\n",
       "      <td>-0.073429</td>\n",
       "      <td>0.208394</td>\n",
       "      <td>0.155377</td>\n",
       "      <td>-0.107569</td>\n",
       "    </tr>\n",
       "  </tbody>\n",
       "</table>\n",
       "</div>"
      ],
      "text/plain": [
       "               open_vol     high_vol      low_vol    close_vol      lag1  \\\n",
       "date                                                                       \n",
       "2013-02-20  1815.199737  1824.402830  1780.073715  1785.461146  0.046659   \n",
       "2013-02-21  1865.211596  1878.768122  1836.587860  1855.182716  0.039050   \n",
       "2013-02-22  1470.934486  1484.539169  1457.896628  1476.579784 -0.204079   \n",
       "\n",
       "                lag2      lag3      lag4      lag5      lag6      lag7  \\\n",
       "date                                                                     \n",
       "2013-02-20 -0.053178  0.034148  0.133162  0.120397  0.340904  0.176247   \n",
       "2013-02-21  0.087531 -0.016205  0.074532  0.177412  0.164148  0.393266   \n",
       "2013-02-22 -0.172998 -0.134411 -0.216977 -0.144757 -0.062873 -0.073429   \n",
       "\n",
       "                 fu1       fu7      fu30  \n",
       "date                                      \n",
       "2013-02-20  0.039050 -0.072469 -0.128791  \n",
       "2013-02-21 -0.204079 -0.177415 -0.097639  \n",
       "2013-02-22  0.208394  0.155377 -0.107569  "
      ]
     },
     "execution_count": 17,
     "metadata": {},
     "output_type": "execute_result"
    }
   ],
   "source": [
    "_622_data[:3]"
   ]
  },
  {
   "cell_type": "markdown",
   "metadata": {},
   "source": [
    "\n",
    "## 2) 회귀모델 적용(regression model) \n",
    "- 선형 회귀 모델을 이용한 지수 예측 \n",
    "- 로지스틱 회귀 모델을 이용한 up/down 예측 \n",
    "- 기타 \n",
    "\n",
    "### [1] 단순 선형 회귀 모형 \n",
    "- 단순 선형 회귀 모델로 Y(결과)에 대한 X(정보)를 fitting한다 식은 아래와 같다\n",
    "- 결과물은 model.coef (정보에 대한 가중치)와 model.intercept(절편)에 저장된다\n",
    "\n",
    "$$ Y \\sim  + W_{1}*lag1+...+ W_{7}*lag7 + intercept $$ \n",
    "\n"
   ]
  },
  {
   "cell_type": "code",
   "execution_count": 18,
   "metadata": {},
   "outputs": [
    {
     "name": "stdout",
     "output_type": "stream",
     "text": [
      "가중치 =  [-0.17647736 -0.06097253 -0.02491097 -0.03196428 -0.04685838 -0.01257961\n",
      " -0.0544302 ] \n",
      "절편 = 0.029497451046815084\n",
      "가중치 =  [-0.07287451 -0.10004626 -0.12013002 -0.13726915 -0.03581    -0.07193931\n",
      " -0.14849417] \n",
      "절편 = 0.06586188778151546\n",
      "가중치 =  [-0.13016984 -0.13572423 -0.03711784 -0.11645263 -0.01650282 -0.11734956\n",
      " -0.18693598] \n",
      "절편 = 0.08471741345733774\n"
     ]
    }
   ],
   "source": [
    "#basic linear regression \n",
    "model = linear_model.LinearRegression()\n",
    "x_vars1 = ['lag1','lag2','lag3','lag4','lag5','lag6','lag7']\n",
    "model_1_1 = model.fit(_622_data[x_vars1], _622_data[\"fu1\"]) # model.fit(x,y)\n",
    "model = linear_model.LinearRegression()\n",
    "model_1_7 = model.fit(_622_data[x_vars1], _622_data[\"fu7\"]) # model.fit(x,y)\n",
    "model = linear_model.LinearRegression()\n",
    "model_1_30 = model.fit(_622_data[x_vars1], _622_data[\"fu30\"]) # model.fit(x,y)\n",
    "print(\"가중치 = \", model_1_1.coef_, \"\\n절편 =\", model_1_1.intercept_)\n",
    "print(\"가중치 = \", model_1_7.coef_, \"\\n절편 =\", model_1_7.intercept_)\n",
    "print(\"가중치 = \", model_1_30.coef_, \"\\n절편 =\", model_1_30.intercept_)\n"
   ]
  },
  {
   "cell_type": "markdown",
   "metadata": {},
   "source": [
    "### [2] 교호작용을 고려한 모델 \n",
    "- 교호작용은 effect modification이라고 불리며, 한 변수에 의해 다른 변수의 효과가 변화하는 모델로 아래의 수식을 활용하여 모델을 만들었다 \n",
    "  \n",
    "$$ Y \\sim W_{1}*lag1+...+ W_{n}*(\\frac{lag1}{lag7}) + intercept $$ \n",
    "  \n",
    "  \n",
    "- 즉, 단순히 종가도 고려하지만, "
   ]
  },
  {
   "cell_type": "code",
   "execution_count": 19,
   "metadata": {},
   "outputs": [],
   "source": [
    "_622_data = _622_data.assign(diff=_622_data['lag1']/_622_data['lag7'])\n",
    "_622_data_eval = _622_data_eval.assign(diff=_622_data_eval['lag1']/_622_data_eval['lag7'])\n",
    "_622_data_test = _622_data_test.assign(diff=_622_data_test['lag1']/_622_data_test['lag7'])"
   ]
  },
  {
   "cell_type": "code",
   "execution_count": 20,
   "metadata": {},
   "outputs": [
    {
     "name": "stdout",
     "output_type": "stream",
     "text": [
      "가중치 =  [-1.76303132e-01 -6.14554344e-02 -2.55143535e-02 -3.09302540e-02\n",
      " -4.64598329e-02 -1.30304827e-02 -5.44939279e-02 -1.65203900e-04] \n",
      "절편 = 0.029477249232989236\n"
     ]
    }
   ],
   "source": [
    "model2 = linear_model.LinearRegression()\n",
    "x_vars2 = ['lag1','lag2','lag3','lag4','lag5','lag6','lag7','diff']\n",
    "model_2_1 = model2.fit(_622_data[x_vars2], _622_data[\"fu1\"]) # model.fit(x,y)\n",
    "model2 = linear_model.LinearRegression()\n",
    "model_2_7 = model2.fit(_622_data[x_vars2], _622_data[\"fu7\"]) # model.fit(x,y)\n",
    "model2 = linear_model.LinearRegression()\n",
    "model_2_30 = model2.fit(_622_data[x_vars2], _622_data[\"fu30\"]) # model.fit(x,y)\n",
    "\n",
    "print(\"가중치 = \", model_2_1.coef_, \"\\n절편 =\", model_2_1.intercept_)"
   ]
  },
  {
   "cell_type": "markdown",
   "metadata": {},
   "source": [
    "### [3] 평가하기 \n",
    "- 1일과 30일 에측 관련하여 MAE와 MSE 값을 도출하였다 \n",
    "- \"model 1\"은 lag의 수익률을 기반으로 피팅한 것이고 \"model 2\"는 lag의 수익률과 더불어 현재 볼륨을 이용하였다 \n",
    "\n"
   ]
  },
  {
   "cell_type": "code",
   "execution_count": 21,
   "metadata": {},
   "outputs": [
    {
     "name": "stdout",
     "output_type": "stream",
     "text": [
      "The MSE of model 1 for 1 day futuer is 0.0316766116\n",
      "The MAE of model 1 for 1 day futuer is 0.1135898678\n",
      "The MSE of model 2 for 1 day futuer is 0.0316075486\n",
      "The MAE of model 2 for 1 day futuer is 0.1136199861\n"
     ]
    }
   ],
   "source": [
    "\n",
    "print(\"The MSE of model 1 for 1 day futuer is %.10f\"% np.mean((model_1_1.predict(_622_data_test[x_vars1]) - _622_data_test['fu1']) ** 2))\n",
    "print(\"The MAE of model 1 for 1 day futuer is %.10f\"% np.mean(abs(model_1_1.predict(_622_data_test[x_vars1]) - _622_data_test['fu1'])))\n",
    "\n",
    "print(\"The MSE of model 2 for 1 day futuer is %.10f\"% np.mean((model_2_1.predict(_622_data_test[x_vars2]) - _622_data_test['fu1']) ** 2))\n",
    "print(\"The MAE of model 2 for 1 day futuer is %.10f\"% np.mean(abs(model_2_1.predict(_622_data_test[x_vars2]) - _622_data_test['fu1']) ))"
   ]
  },
  {
   "cell_type": "code",
   "execution_count": 22,
   "metadata": {},
   "outputs": [
    {
     "name": "stdout",
     "output_type": "stream",
     "text": [
      "The MSE of model 1 for 1 month futuer is 0.0541577487\n",
      "The MAE of model 1 for 1 month futuer is 0.1651044364\n",
      "The MSE of model 2 for 1 month futuer is 0.0541861478\n",
      "The MAE of model 2 for 1 month futuer is 0.1651939757\n"
     ]
    }
   ],
   "source": [
    "\n",
    "print(\"The MSE of model 1 for 1 month futuer is %.10f\"% np.mean((model_1_30.predict(_622_data_test[x_vars1]) - _622_data_test['fu30']) ** 2))\n",
    "print(\"The MAE of model 1 for 1 month futuer is %.10f\"% np.mean(abs(model_1_30.predict(_622_data_test[x_vars1]) - _622_data_test['fu30'])))\n",
    "\n",
    "\n",
    "print(\"The MSE of model 2 for 1 month futuer is %.10f\"% np.mean((model_2_30.predict(_622_data_test[x_vars2]) - _622_data_test['fu30']) ** 2))\n",
    "print(\"The MAE of model 2 for 1 month futuer is %.10f\"% np.mean(abs(model_2_30.predict(_622_data_test[x_vars2]) - _622_data_test['fu30']) ))"
   ]
  },
  {
   "cell_type": "markdown",
   "metadata": {},
   "source": [
    "### [4] 선형 회귀분석 결론 \n",
    "- 시계열의 스케일 문제로 과거를 기준으로 수익률 기반으로 계산. 대략 3%~5% 정도의 MAE 값을 보임\n",
    "- 분석 변수에 따라 결과에 영향을 줌 (좋은 feature에 대한 선택 필요) \n",
    "- 가까운 미래를 예측하는 것 보다 먼 미래를 예측하는 것이 어렵다 (보다 먼 미래를 예측하기 위해서는?) \n",
    "- 회귀 분석은 그냥 다른 것의 baseline 정도로 생각"
   ]
  },
  {
   "cell_type": "markdown",
   "metadata": {},
   "source": [
    "### [5] 로지스틱 회귀 분석 \n",
    "- 값을 예측하는 것 자체가 어려운 문제이기 때문에 라벨(up/down등)을 예측하는 형태로 수행 \n",
    "- 라벨 정의, 갯수, 결과물 활용 등 라벨에 대한 이슈가 발생할 수 있음 \n",
    "- (라벨 정의) 과거(현재)를 기준으로 미래에 대한 특정 수익률을 $\\alpha$라고 정의하였을 때, $\\alpha$ 이상을 up 반대를 down이라고 정의하고 이외의 경우를 hold라고 정의    \n",
    "$$\n",
    "future\\;label(t) = \\left\\{\\begin{matrix}\n",
    "up(1), & per(t) > \\alpha \\\\  \n",
    "down(-1), & per(t) < \\alpha\\\\  \n",
    "hold(0), & otherwise\n",
    "\\end{matrix}\\right.\n",
    "$$\n",
    "\n",
    "- 데이터 라벨 변환을 수행한다 \n",
    "- 근데 수익률로 생각해보면 기간이 길어질 수록 $\\alpha$가 커져야 의미 있는 날을 추출할 수 있다. 즉, 짧은 날 $\\alpha$가 크면 $hold$ 라벨만 너무 많을 것이다  "
   ]
  },
  {
   "cell_type": "code",
   "execution_count": 510,
   "metadata": {},
   "outputs": [],
   "source": [
    "'''\n",
    "alpha_1 = 1일 이후의 수익률 \n",
    "alpha_30 = 30일 이후의 수익률 \n",
    "'''\n",
    "alpha_1 = 0.01 \n",
    "alpha_7 = 0.04 \n",
    "alpha_30 = 0.16 \n",
    "\n",
    "_622_data['fu1_label'] = '1'\n",
    "_622_data.loc[_622_data['fu1'] > alpha_1, 'fu1_label'] =  '2'\n",
    "_622_data.loc[_622_data['fu1'] < (-1)*alpha_1, 'fu1_label'] =  '0'\n",
    "_622_data_test['fu1_label'] = '1'\n",
    "_622_data_test.loc[_622_data_test['fu1'] > alpha_1, 'fu1_label'] =  '2'\n",
    "_622_data_test.loc[_622_data_test['fu1'] < (-1)*alpha_1, 'fu1_label'] =  '0'\n",
    "_622_data_eval['fu1_label'] = '1'\n",
    "_622_data_eval.loc[_622_data_eval['fu1'] > alpha_1, 'fu1_label'] =  '2'\n",
    "_622_data_eval.loc[_622_data_eval['fu1'] < (-1)*alpha_1, 'fu1_label'] =  '0'\n",
    "\n",
    "_622_data['fu7_label'] = '1'\n",
    "_622_data.loc[_622_data['fu7'] > alpha_7, 'fu7_label'] =  '2'\n",
    "_622_data.loc[_622_data['fu7'] < (-1)*alpha_7, 'fu7_label'] =  '0'\n",
    "_622_data_test['fu7_label'] = '1'\n",
    "_622_data_test.loc[_622_data_test['fu7'] > alpha_7, 'fu7_label'] =  '2'\n",
    "_622_data_test.loc[_622_data_test['fu7'] < (-1)*alpha_7, 'fu7_label'] =  '0'\n",
    "_622_data_eval['fu7_label'] = '1'\n",
    "_622_data_eval.loc[_622_data_eval['fu7'] > alpha_1, 'fu7_label'] =  '2'\n",
    "_622_data_eval.loc[_622_data_eval['fu7'] < (-1)*alpha_1, 'fu7_label'] =  '0'\n",
    "\n",
    "_622_data['fu30_label'] = '1'\n",
    "_622_data.loc[_622_data['fu30'] > alpha_30, 'fu30_label'] =  '2'\n",
    "_622_data.loc[_622_data['fu30'] < (-1)*alpha_30, 'fu30_label'] =  '0'\n",
    "_622_data_test['fu30_label'] = '1'\n",
    "_622_data_test.loc[_622_data_test['fu30'] > alpha_30, 'fu30_label'] =  '2'\n",
    "_622_data_test.loc[_622_data_test['fu30'] < (-1)*alpha_30, 'fu30_label'] =  '0'\n",
    "_622_data_eval['fu30_label'] = '1'\n",
    "_622_data_eval.loc[_622_data_eval['fu30'] > alpha_1, 'fu30_label'] =  '2'\n",
    "_622_data_eval.loc[_622_data_eval['fu30'] < (-1)*alpha_1, 'fu30_label'] =  '0'\n"
   ]
  },
  {
   "cell_type": "code",
   "execution_count": 511,
   "metadata": {},
   "outputs": [
    {
     "name": "stdout",
     "output_type": "stream",
     "text": [
      "count     733\n",
      "unique      3\n",
      "top         2\n",
      "freq      341\n",
      "Name: fu1_label, dtype: object \n",
      "\n",
      "count     733\n",
      "unique      3\n",
      "top         0\n",
      "freq      309\n",
      "Name: fu7_label, dtype: object \n",
      "\n",
      "count     733\n",
      "unique      3\n",
      "top         1\n",
      "freq      364\n",
      "Name: fu30_label, dtype: object \n",
      "\n"
     ]
    }
   ],
   "source": [
    "print(_622_data['fu1_label'].describe(), \"\\n\")\n",
    "print(_622_data['fu7_label'].describe(), \"\\n\")\n",
    "print(_622_data['fu30_label'].describe(), \"\\n\")"
   ]
  },
  {
   "cell_type": "code",
   "execution_count": 1524,
   "metadata": {},
   "outputs": [],
   "source": [
    "log_clf = linear_model.LogisticRegression()\n",
    "log_clf.fit (_622_data[x_vars1], _622_data['fu1_label']) # x, y 데이터 순 \n",
    "score = log_clf.score (_622_data_test[x_vars1], _622_data_test['fu1_label'])\n",
    "predictions = log_clf.predict(_622_data_test[x_vars1])\n",
    "cm = metrics.confusion_matrix( _622_data_test['fu1_label'], predictions)"
   ]
  },
  {
   "cell_type": "code",
   "execution_count": 1525,
   "metadata": {},
   "outputs": [
    {
     "data": {
      "image/png": "[encoded data removed]",
      "text/plain": [
       "<Figure size 216x216 with 2 Axes>"
      ]
     },
     "metadata": {},
     "output_type": "display_data"
    }
   ],
   "source": [
    "plt.figure(figsize=(3,3))\n",
    "sns.heatmap(cm, annot=True, fmt=\"\", linewidths=2, square = True, cmap = 'Blues_r');\n",
    "plt.xlabel('Actual label');\n",
    "plt.ylabel('Predicted label');\n",
    "plt.xticks([0,1,2],['down','hold','up'])\n",
    "plt.yticks([0,1,2],['down','hold','up'])\n",
    "all_sample_title = 'Accuracy Score: {%.3f}'%(score)\n",
    "plt.title(all_sample_title, size = 11);"
   ]
  },
  {
   "cell_type": "code",
   "execution_count": 1526,
   "metadata": {},
   "outputs": [],
   "source": [
    "log_clf.fit (_622_data[x_vars1], _622_data['fu7_label']) # x, y 데이터 순 \n",
    "score = log_clf.score (_622_data_test[x_vars1], _622_data_test['fu7_label'])\n",
    "\n",
    "predictions = log_clf.predict(_622_data_test[x_vars1])\n",
    "cm = metrics.confusion_matrix( _622_data_test['fu7_label'], predictions)"
   ]
  },
  {
   "cell_type": "code",
   "execution_count": 1527,
   "metadata": {},
   "outputs": [
    {
     "data": {
      "image/png": "[encoded data removed]",
      "text/plain": [
       "<Figure size 216x216 with 2 Axes>"
      ]
     },
     "metadata": {},
     "output_type": "display_data"
    }
   ],
   "source": [
    "plt.figure(figsize=(3,3))\n",
    "sns.heatmap(cm, annot=True, fmt=\"\", linewidths=2, square = True, cmap = 'Blues_r');\n",
    "plt.xlabel('Actual label');\n",
    "plt.ylabel('Predicted label');\n",
    "plt.xticks([0,1,2],['down','hold','up'])\n",
    "plt.yticks([0,1,2],['down','hold','up'])\n",
    "all_sample_title = 'Accuracy Score: {%.3f}'%(score)\n",
    "plt.title(all_sample_title, size = 11);"
   ]
  },
  {
   "cell_type": "code",
   "execution_count": 1528,
   "metadata": {},
   "outputs": [],
   "source": [
    "log_clf.fit (_622_data[x_vars1], _622_data['fu30_label']) # x, y 데이터 순 \n",
    "score = log_clf.score (_622_data_test[x_vars1], _622_data_test['fu30_label'])\n",
    "\n",
    "predictions = log_clf.predict(_622_data_test[x_vars1])\n",
    "cm = metrics.confusion_matrix( _622_data_test['fu30_label'], predictions)"
   ]
  },
  {
   "cell_type": "code",
   "execution_count": 1529,
   "metadata": {},
   "outputs": [
    {
     "data": {
      "image/png": "[encoded data removed]",
      "text/plain": [
       "<Figure size 216x216 with 2 Axes>"
      ]
     },
     "metadata": {},
     "output_type": "display_data"
    }
   ],
   "source": [
    "plt.figure(figsize=(3,3))\n",
    "sns.heatmap(cm, annot=True, fmt=\"\", linewidths=2, square = True, cmap = 'Blues_r');\n",
    "plt.xlabel('Actual label');\n",
    "plt.ylabel('Predicted label');\n",
    "plt.xticks([0,1,2],['down','hold','up'])\n",
    "plt.yticks([0,1,2],['down','hold','up'])\n",
    "all_sample_title = 'Accuracy Score: {%.3f}'%(score)\n",
    "plt.title(all_sample_title, size = 11);"
   ]
  },
  {
   "cell_type": "markdown",
   "metadata": {},
   "source": [
    "- 동일한 구간이라고 하더라도 기준 수익률에 따라서 학습의 결과가 달라지기 때문에 정량적으로 비교하는데는 무리가 있다 \n",
    "- 다만 대체적으로 이러한 접근 방법을 이용해도 false alarm보다는 true alarm의 비율이 조금더 나은것 같다  "
   ]
  },
  {
   "cell_type": "markdown",
   "metadata": {},
   "source": [
    "## 3) LSTM 모델 적용 \n",
    "- LSTM 설명 \n",
    "\n",
    "--- \n",
    "\n",
    "- LSTM 관련 사이트를 참고해서 LSTM을 구축함. LSTM을 구현하기 위해서 크게, 데이터를 자르는 부분, 모델 인풋, LSTM 모형 만드는 부분 Loss와 optimizer 부분, 그리고 accuracy를 계산 하는 함수를 만들었음 \n",
    "- 각종 함수를 활용하여서 네트워크를 구성하고, 학습하는 모델을 만들었음 \n",
    "- LSTM은 현재를 기준으로 과거의 일부 구간을 확인하여 최종적으로 주가의 라벨(up/down/hold)를 예측하는 것을 목표로 함 \n",
    "\n",
    "--- \n",
    "\n",
    "[실험] \n",
    "- LSTM에서 옵션을 변화해가면서 반복 실험(짧게 3회정도) 수행해보면서 실험 결과 비교하기 \n",
    "\n",
    "\n",
    "----\n"
   ]
  },
  {
   "cell_type": "code",
   "execution_count": 518,
   "metadata": {},
   "outputs": [],
   "source": [
    "import tensorflow as tf "
   ]
  },
  {
   "cell_type": "code",
   "execution_count": 1439,
   "metadata": {},
   "outputs": [],
   "source": [
    "'''\n",
    "정렬되어 있다고 가정 \n",
    "stepN = 데이터를 몇개를 볼지 \n",
    "두 단계가 필요하다 \n",
    "하나는 배치 하나에 대한 데이터 만들기 \n",
    "여러 배치로 만들기 \n",
    "'''\n",
    "def change_data_for_LSTM(origin_data, batch_size, time_steps, x_label, y_label = 'fu1_label', shuffle = False):\n",
    "\n",
    "    temp_x_ = np.array(origin_data[x_label])\n",
    "    temp_y_ = np.array(origin_data[y_label])   \n",
    "    x_ = []\n",
    "    y_ = []\n",
    "        \n",
    "    for idx in range(0, len(origin_data)-time_steps):\n",
    "        x_.append(temp_x_[idx:idx+time_steps])\n",
    "        y_.append(temp_y_[idx:idx+time_steps])\n",
    "    \n",
    "    n_batches_ = len(x_) // batch_size\n",
    "    \n",
    "    x_ = np.array(x_[:n_batches_ * batch_size], dtype = np.float32) \n",
    "    y_ = np.array(y_[:n_batches_ * batch_size], dtype = np.float32) \n",
    "\n",
    "    if shuffle is True:\n",
    "        s = np.arange(x_.shape[0])\n",
    "        np.random.shuffle(s)\n",
    "        x_ = x_[s]\n",
    "        y_ = y_[s]\n",
    "        \n",
    "\n",
    "\n",
    "    \n",
    "    #for ii in range(0, n_batches_):\n",
    "    for ii in range(0, len(x_), batch_size):\n",
    "        #yield np.array(x_[ii:ii + batch_size], dtype = np.float32), np.array(y_[ii:ii + batch_size], dtype = np.float32), len(x_)\n",
    "        #return x_[ii:ii + batch_size], y_[ii:ii + batch_size]\n",
    "        yield x_[ii:ii + batch_size], y_[ii:ii + batch_size], len(x_)\n"
   ]
  },
  {
   "cell_type": "code",
   "execution_count": 1431,
   "metadata": {},
   "outputs": [
    {
     "name": "stdout",
     "output_type": "stream",
     "text": [
      "(10, 10, 7)\n",
      "(10, 10)\n",
      "<class 'numpy.float32'>\n",
      "[ 0.03904961  0.0875311  -0.01620531  0.07453155  0.17741163  0.16414848\n",
      "  0.39326566]\n"
     ]
    }
   ],
   "source": [
    "# test code \n",
    "temp_x, temp_y = change_data_for_LSTM(_622_data, 10, 10, x_vars1, 'fu1_label', False)\n",
    "\n",
    "# for test \n",
    "print(temp_x.shape)\n",
    "print(temp_y.shape)\n",
    "print(type(temp_x[0][0][0]))\n",
    "print(temp_x[0][1][:])"
   ]
  },
  {
   "cell_type": "markdown",
   "metadata": {},
   "source": [
    "- chang_data_for_LSTM은 기존의 데이터를 인풋으로 받아서 batch size를 고려하여 적당한 크기로 자르는 함수 \n",
    "- time_step(학습에 활용하는 이전 날짜의 정보) 기간 만큼 잘라서 LSTM의 모형에 맞게 변화한다 \n",
    "    - 즉, 2차원을 3차원의 리스트로 만들어 준다 \n",
    "- batch size를 고려하여 전체 데이터중 일부만 활용하며, shuffle 옵션에 따라서 셔플을 수행한다 \n",
    "    - 셔플에 따라서 학습이 안되는 경우도 있을 수 있다 ... (epoch이 증가하면 자연스럽게 문제 해결될 수 있다0 \n",
    "    - 최대한 모든 데이터를 활용하는 편이 좋을 듯 \n",
    "- yield 함수는 return과 기능은 동일한데, 요청에 따라서 부분, 부분 리턴해주는 함수라고 한다 \n",
    "    - 즉, for문을 미리 다 돌아서 리턴을 하는 것이 아니라 요청이 있을 때 마다 한 번씩 도는 것 같다 "
   ]
  },
  {
   "cell_type": "code",
   "execution_count": 1433,
   "metadata": {},
   "outputs": [],
   "source": [
    "def model_inputs (x_label) : \n",
    "    inputs_ = tf.placeholder( tf.float32, [None, None, len(x_label)], name =\"inputs\" ) # sample, step, input\n",
    "    \n",
    "    labels_ = tf.placeholder( tf.float32, [None, None], name =\"labels\")\n",
    "    keep_prob_ = tf.placeholder(tf.float32, name = \"keep_prob\")\n",
    "    \n",
    "    return inputs_, labels_, keep_prob_"
   ]
  },
  {
   "cell_type": "code",
   "execution_count": 1434,
   "metadata": {},
   "outputs": [],
   "source": [
    "'''\n",
    "lstm_size = 히든레이어 \n",
    "num_layer = LSTM 쌓아 올리는 \n",
    "inputs = 데이터 들어온다고 가정  \n",
    "num_steps = 옆으로 몇 개 mnay to one \n",
    "'''\n",
    "def build_lstm_layers(lstm_sizes, keep_prob_, batch_size, inputs_):\n",
    "    '''\n",
    "    def _create_one_cell(): \n",
    "        #lstm_cell = tf.contrib.rnn.LSTMCell(lstm_sizes, state_is_tuple=True)\n",
    "        lstm_cell = tf.contrib.rnn.LSTMCell(lstm_sizes, state_is_tuple=True)\n",
    "        if keep_prob < 1.0: \n",
    "            lstm_cell = tf.contrib.rnn.DropoutWrapper(lstm_cell, output_keep_prob = keep_prob )\n",
    "        return lstm_cell \n",
    "    \n",
    "      cell = tf.contrib.rnn.MultiRNNCell(\n",
    "            [_create_one_cell() for _ in range(num_layers)],\n",
    "            state_is_tuple=True\n",
    "        ) if num_layers > 1 else _create_one_cell()\n",
    "    '''\n",
    "    lstms = [tf.contrib.rnn.BasicLSTMCell(size) for size in lstm_sizes]\n",
    "    # Add dropout to the cell\n",
    "    drops = [tf.contrib.rnn.DropoutWrapper(lstm, output_keep_prob=keep_prob_) for lstm in lstms]\n",
    "    # Stack up multiple LSTM layers, for deep learning\n",
    "    cell = tf.contrib.rnn.MultiRNNCell(drops)\n",
    "    \n",
    "    #inputs_ = tf.transpose(inputs_, [1, 0 , 2])\n",
    "   \n",
    "\n",
    "    initial_state = cell.zero_state(batch_size, tf.float32)\n",
    "     \n",
    "    lstm_outputs, final_state = tf.nn.dynamic_rnn(cell, inputs_, initial_state=initial_state)\n",
    "\n",
    "    return initial_state, lstm_outputs, cell, final_state"
   ]
  },
  {
   "cell_type": "code",
   "execution_count": 1435,
   "metadata": {},
   "outputs": [],
   "source": [
    "def build_cost_fn_and_opt (lstm_outputs, labels_ , learning_rate, time_steps):    \n",
    "    '''\n",
    "    predictions = tf.contrib.layers.fully_connected(lstm_outputs[:,-1], \n",
    "                                                    1, activation_fn = tf.sigmoid)       \n",
    "    loss = tf.losses.mean_squared_error(labels_, predictions)\n",
    "    optimizer = tf.train.AdadeltaOptimizer(learning_rate).minimize(loss)\n",
    "    '''\n",
    "    \n",
    "    predictions = tf.contrib.layers.fully_connected(lstm_outputs[:,-1,:], \n",
    "                                                    3, activation_fn = tf.nn.softmax)\n",
    "    loss = tf.reduce_mean(tf.nn.sparse_softmax_cross_entropy_with_logits(logits = lstm_outputs[:,-1,:], \n",
    "                                                                         labels = tf.to_int32(labels_[:,-1])))\n",
    "    #optimizer = tf.train.AdadeltaOptimizer(learning_rate).minimize(loss)\n",
    "    #optimizer = tf.train.GradientDescentOptimizer(learning_rate).minimize(loss)\n",
    "    '''\n",
    "    GradientDescentOptimizer\n",
    "    AdagradOptimizer\n",
    "    MomentumOptimizer\n",
    "    AdamOptimizer\n",
    "    FtrlOptimizer\n",
    "    RMSPropOptimizer\n",
    "    '''    \n",
    "\n",
    "    optimizer = tf.train.AdadeltaOptimizer(learning_rate).minimize(loss)\n",
    "\n",
    "    return predictions, loss, optimizer, labels_\n",
    "    "
   ]
  },
  {
   "cell_type": "code",
   "execution_count": 1436,
   "metadata": {},
   "outputs": [],
   "source": [
    "def build_accuracy(predictions, labels_):\n",
    "    \"\"\"\n",
    "    correct_pred = tf.equal(tf.cast(tf.round(predictions), tf.float32), labels_)\n",
    "    accuracy = tf.reduce_mean(tf.cast(correct_pred, tf.float32))\n",
    "    \"\"\"\n",
    "    correct_pred = tf.equal(tf.cast(tf.argmax(predictions, axis=1), tf.float32), labels_[:,-1])\n",
    "    accuracy = tf.reduce_mean(tf.cast(correct_pred, tf.float32))\n",
    "    \n",
    "    \n",
    "    \n",
    "    return accuracy ,labels_ "
   ]
  },
  {
   "cell_type": "code",
   "execution_count": 1437,
   "metadata": {},
   "outputs": [],
   "source": [
    "def build_and_train_network(lstm_sizes, epochs, batch_size,\n",
    "                            learning_rate, keep_prob,time_steps, train_x, val_x, x_label, y_label, shuffle):\n",
    "    \n",
    "    inputs_, labels_, keep_prob_ = model_inputs(x_label)\n",
    "    #embed = tf.cast(np.empty([batch_size, time_steps, len(x_label)]), tf.float32)\n",
    "    initial_state, lstm_outputs, lstm_cell, final_state = build_lstm_layers(lstm_sizes, keep_prob_,\n",
    "                                                                            batch_size, inputs_)\n",
    "    predictions, loss, optimizer, opt_labels_ = build_cost_fn_and_opt(lstm_outputs, labels_, learning_rate , time_steps)\n",
    "    accuracy, temp_labels = build_accuracy(predictions, labels_)\n",
    "    \n",
    "    saver = tf.train.Saver()\n",
    "    \n",
    "    with tf.Session() as sess:\n",
    "        writer = tf.summary.FileWriter(\"./logs/test\")\n",
    "        writer.add_graph (sess.graph)\n",
    "        \n",
    "        sess.run(tf.global_variables_initializer())\n",
    "         \n",
    "        for e in range(epochs):\n",
    "\n",
    "            state = sess.run(initial_state)\n",
    "            \n",
    "            train_acc = []\n",
    "            \n",
    "            for ii, (x, y, end_x) in enumerate(change_data_for_LSTM(train_x, batch_size, time_steps, x_label, y_label, shuffle), 1):\n",
    "                n_batches = end_x//batch_size                \n",
    "                feed = {inputs_: x,\n",
    "                        labels_: y,\n",
    "                        keep_prob_: keep_prob,\n",
    "                        initial_state: state}\n",
    "                loss_, state, _,  batch_acc = sess.run([loss, final_state, optimizer, accuracy], feed_dict=feed)\n",
    "                train_acc.append(batch_acc)\n",
    "                \n",
    "                if (ii + 1) % n_batches == 0:\n",
    "                    \n",
    "                    val_acc = []\n",
    "                    val_state = sess.run(lstm_cell.zero_state(batch_size, tf.float32))\n",
    "                    for xx, yy, end_x in change_data_for_LSTM(val_x, batch_size, time_steps, x_label, y_label, shuffle):\n",
    "                        feed = {inputs_: xx,\n",
    "                                labels_: yy,\n",
    "                                keep_prob_: 1,\n",
    "                                initial_state: val_state}\n",
    "                        val_batch_acc, val_state, val_predictions, val_label, temp_l, val_lstmoutput = sess.run([accuracy, final_state, predictions, opt_labels_, temp_labels, lstm_outputs], feed_dict=feed)\n",
    "                        val_acc.append(val_batch_acc)                       \n",
    "                    if (e) % 10 == 0 or e+1 == epochs:\n",
    "                        #print(val_lstmoutput)\n",
    "                        #print(val_lstmoutput.shape) batch, step, input_unit\n",
    "                        print(\"Epoch: {}/{}.\".format(e+1, epochs),\n",
    "                              \"Batch: {}/{}.\".format(ii+1, n_batches),\n",
    "                              \"Train cost: {:.10f}.\".format(loss_),\n",
    "                              \"Train Accruacy: {:.3f}.\".format(np.mean(train_acc)),\n",
    "                              \"Val Accuracy: {:.3f}\".format(np.mean(val_acc)))\n",
    "    \n",
    "        saver.save(sess, \"checkpoints/sentiment.ckpt\")"
   ]
  },
  {
   "cell_type": "code",
   "execution_count": 1494,
   "metadata": {},
   "outputs": [
    {
     "name": "stdout",
     "output_type": "stream",
     "text": [
      "Epoch: 1/50. Batch: 51/51. Train cost: 2.4867365360. Train Accruacy: 0.290. Val Accuracy: 0.290\n",
      "Epoch: 11/50. Batch: 51/51. Train cost: 2.5176799297. Train Accruacy: 0.307. Val Accuracy: 0.335\n",
      "Epoch: 21/50. Batch: 51/51. Train cost: 2.4799144268. Train Accruacy: 0.296. Val Accuracy: 0.308\n",
      "Epoch: 31/50. Batch: 51/51. Train cost: 2.5125467777. Train Accruacy: 0.291. Val Accuracy: 0.317\n",
      "Epoch: 41/50. Batch: 51/51. Train cost: 2.5017268658. Train Accruacy: 0.283. Val Accuracy: 0.330\n",
      "Epoch: 50/50. Batch: 51/51. Train cost: 2.4697871208. Train Accruacy: 0.289. Val Accuracy: 0.317\n"
     ]
    }
   ],
   "source": [
    "# Define Inputs and Hyperparameters\n",
    "\n",
    "epochs = 50\n",
    "batch_size = 14\n",
    "learning_rate = 0.0001\n",
    "keep_prob = 0.1\n",
    "time_steps = 10\n",
    "lstm_sizes = [14, 42, 12]\n",
    "y_label = 'fu30_label'\n",
    "shuffle = True \n",
    "with tf.Graph().as_default():\n",
    "    build_and_train_network(lstm_sizes, epochs, batch_size,\n",
    "                            learning_rate, keep_prob, time_steps, _622_data, _622_data_eval, x_vars1, y_label, shuffle)"
   ]
  },
  {
   "cell_type": "code",
   "execution_count": 1445,
   "metadata": {},
   "outputs": [],
   "source": [
    "\n",
    "def test_network(model_dir, batch_size, test_x, time_steps, x_label,y_label, shuffle):\n",
    "    \n",
    "    inputs_, labels_, keep_prob_ = model_inputs(x_label)\n",
    "    #embed = tf.cast(np.empty([batch_size, time_steps, len(x_label)]), tf.float32)\n",
    "    initial_state, lstm_outputs, lstm_cell, final_state = build_lstm_layers(lstm_sizes, keep_prob_,\n",
    "                                                                            batch_size, inputs_)\n",
    "    predictions, loss, optimizer, opt_labels_ = build_cost_fn_and_opt(lstm_outputs, labels_, learning_rate , time_steps)\n",
    "    accuracy, temp_labels = build_accuracy(predictions, labels_)\n",
    "    \n",
    "    \n",
    "    saver = tf.train.Saver()\n",
    "    \n",
    "    test_acc = []\n",
    "    with tf.Session() as sess:\n",
    "        saver.restore(sess, tf.train.latest_checkpoint(model_dir))\n",
    "        test_state = sess.run(lstm_cell.zero_state(batch_size, tf.float32))\n",
    "        for ii, (x, y, end_x) in enumerate(change_data_for_LSTM(test_x, batch_size, time_steps, x_label, y_label, shuffle), 1):\n",
    "            feed = {inputs_: x,\n",
    "                    labels_: y,\n",
    "                    keep_prob_: 1,\n",
    "                    initial_state: test_state}\n",
    "            #batch_acc, test_state, test_pred, test_label = sess.run([accuracy, final_state, predictions, opt_labels_], feed_dict=feed)\n",
    "            batch_acc, test_state, test_pred, test_label= sess.run([accuracy, final_state, predictions, opt_labels_], feed_dict=feed)\n",
    "            #if ii == 1: \n",
    "                #print(tf.argmax(test_pred,axis=1).eval(), test_label[:,-1])\n",
    "            test_acc.append(batch_acc)\n",
    "            lstm_score.append(batch_acc)\n",
    "            label_pred.append(test_label[:,-1])\n",
    "            LSTM_pred.append(tf.argmax(test_pred,axis=1).eval())\n",
    "        print(\"Test Accuracy: {:.3f}\".format(np.mean(test_acc)))\n",
    "        \n",
    "        "
   ]
  },
  {
   "cell_type": "code",
   "execution_count": 1502,
   "metadata": {},
   "outputs": [
    {
     "name": "stdout",
     "output_type": "stream",
     "text": [
      "INFO:tensorflow:Restoring parameters from checkpoints/sentiment.ckpt\n",
      "Test Accuracy: 0.312\n"
     ]
    }
   ],
   "source": [
    "LSTM_pred = [] \n",
    "label_pred = [ ]\n",
    "lstm_score = [] \n",
    "lstm_test_data = [] \n",
    "with tf.Graph().as_default():\n",
    "    test_network('checkpoints', batch_size, _622_data_test, time_steps, x_vars1 ,y_label,  True)\n"
   ]
  },
  {
   "cell_type": "markdown",
   "metadata": {},
   "source": [
    "---\n",
    "\n",
    "### [셔플 수행]\n",
    "#### 1)  epoch 변화에 따른 성능 변화 \n",
    "> epochs = ? / batch_size = 14 / learning_rate = 0.0001 / keep_prob = 0.5 / time_steps = 30 /lstm_sizes = [14, 42, 12] \n",
    "\n",
    "- epoch 20: 0.257 / **epoch 50: 0.395** / epoch 100: 0.214 \n",
    "\n",
    "#### 2) time steps의 변화(LSMT의 unit의 변화) \n",
    "\n",
    "> epochs = 50 / batch_size = 14 / learning_rate = 0.0001 /keep_prob = 0.5 / time_steps = ? / lstm_sizes = [14, 42, 12]\n",
    "\n",
    "- **time stpes 10: 0.429** / time stpes 30: 0.395 / time stpes 60: 0.308\n",
    "\n",
    "#### 3) batch_size 변화 \n",
    "\n",
    "> epochs = 50 / batch_size = ? / learning_rate = 0.0001 /keep_prob = 0.5 / time_steps = 10 / lstm_sizes = [14, 42, \n",
    "\n",
    "- batch_size 7: 0.312 / **batch_size 14: 0.429** / batch_size 20: 0.418 / batch_size 27: 0.380 / batch_size 40: 0.420 / batch_size 70: 0.257\n",
    "\n",
    "#### 4) keep_prob 변화 \n",
    "\n",
    "> epochs = 50 / batch_size = 14 / learning_rate = 0.0001 /keep_prob = ? / time_steps = 10 / lstm_sizes = [14, 42, \n",
    "\n",
    "- **keep_prob 0.1: 0.312 - 0.438** / keep_prob 0.3: 0.308 / keep_prob 0.5: 0.299 - 0.429 / keep_prob 0.8: 0.317\n",
    "\n",
    "\n",
    "### [셔플 X ]\n",
    "#### 4) 번과 동일한 조건 \n",
    "\n",
    "> epochs = 50 / batch_size = 14 / learning_rate = 0.0001 /keep_prob = 0.1 / time_steps = 10 / lstm_sizes = [14, 42, \n",
    "\n",
    "- 학습시 데이터 셔플 없음: 0.321 / 0.433 / 0.326 = mean: 0.360\n",
    "- 학습시 데이터 셔플 있음: 0.438 / 0.312 / 0.290 = mean: 0.346"
   ]
  },
  {
   "cell_type": "code",
   "execution_count": 1531,
   "metadata": {},
   "outputs": [
    {
     "data": {
      "image/png": "[encoded data removed]",
      "text/plain": [
       "<Figure size 216x216 with 2 Axes>"
      ]
     },
     "metadata": {},
     "output_type": "display_data"
    }
   ],
   "source": [
    "cm = metrics.confusion_matrix( np.array(label_pred, dtype = np.int).reshape(-1), \n",
    "    np.array(LSTM_pred, dtype = np.int).reshape(-1)\n",
    "    )\n",
    "\n",
    "\n",
    "plt.figure(figsize=(3,3))\n",
    "sns.heatmap(cm, annot=True, fmt=\"\", linewidths=2, square = True, cmap = 'Blues_r');\n",
    "plt.xlabel('Actual label');\n",
    "plt.ylabel('Predicted label');\n",
    "plt.xticks([0.5,1.5,2.5],['down','hold','up'])\n",
    "plt.yticks([0.5,1.5,2.5],['down','hold','up'])\n",
    "all_sample_title = 'Accuracy Score: {%.3f}'%(np.mean(lstm_score))\n",
    "plt.title(all_sample_title, size = 11);"
   ]
  },
  {
   "cell_type": "markdown",
   "metadata": {},
   "source": [
    "#### LSTM 모델 정리 \n",
    "- 활용 데이터가 많지 않기 때문에, LSTM의 성능이 회귀모델 보다 전반적으로 나쁘다 \n",
    "- 그러나 구조 변경 등을 통해서 성능을 튜닝할 수 있는 여지가 있다 (회귀 모델 모다는 더 많은 어프로치가 있을 듯)  \n",
    "- 셔플이 잘 동작한다는 가정하에서 그다지 셔플의 장점이 없음(단, 셔플을 하지 않으면 batch를 만들면서 사용 못 하는 데이터가 있음) \n",
    "- LR 과 비교해보면서 결과내기 \n",
    "\n",
    "\n",
    "\n"
   ]
  },
  {
   "cell_type": "code",
   "execution_count": null,
   "metadata": {},
   "outputs": [],
   "source": [
    "log_clf.fit (_622_data[x_vars1], _622_data['fu30_label']) # x, y 데이터 순 \n",
    "predictions = log_clf.predict(_622_data_test[x_vars1])\n",
    "trans_label_pred = np.array(label_pred, dtype = np.int).reshape(-1)"
   ]
  },
  {
   "cell_type": "code",
   "execution_count": 1522,
   "metadata": {},
   "outputs": [
    {
     "data": {
      "image/png": "[encoded data removed]",
      "text/plain": [
       "<Figure size 216x216 with 2 Axes>"
      ]
     },
     "metadata": {},
     "output_type": "display_data"
    }
   ],
   "source": [
    "cm = metrics.confusion_matrix(trans_label_pred, np.array(predictions[0:len(trans_label_pred)], dtype = np.int))\n",
    "plt.figure(figsize=(3,3))\n",
    "sns.heatmap(cm, annot=True, fmt=\"\", linewidths=2, square = True, cmap = 'Blues_r');\n",
    "plt.ylabel('LSTM Predicted label');\n",
    "plt.xlabel('LR Predicted label');\n",
    "plt.xticks([0.5,1.5,2.5],['down','hold','up'])\n",
    "plt.yticks([0.5,1.5,2.5],['down','hold','up'])\n",
    "all_sample_title = 'LSTM - LR '\n",
    "plt.title(all_sample_title, size = 11);\n",
    "# LSTM_pred"
   ]
  },
  {
   "cell_type": "markdown",
   "metadata": {},
   "source": [
    "---\n",
    "\n",
    "### 수행한 내역 정리 및 future work 1024\n",
    "- (future work) LSTM 디코더 형태로 변환 고려\n",
    "- 데이터 쪽에서 셔플링 하는것 고려하기 time step까지 고려해서 셔플해야 한다 \n"
   ]
  },
  {
   "cell_type": "code",
   "execution_count": 1341,
   "metadata": {},
   "outputs": [
    {
     "data": {
      "text/plain": [
       "243"
      ]
     },
     "execution_count": 1341,
     "metadata": {},
     "output_type": "execute_result"
    }
   ],
   "source": [
    "len(_622_data_test)"
   ]
  },
  {
   "cell_type": "code",
   "execution_count": 1171,
   "metadata": {},
   "outputs": [
    {
     "data": {
      "text/plain": [
       "238"
      ]
     },
     "execution_count": 1171,
     "metadata": {},
     "output_type": "execute_result"
    }
   ],
   "source": [
    "17 * 14"
   ]
  },
  {
   "cell_type": "code",
   "execution_count": null,
   "metadata": {},
   "outputs": [],
   "source": []
  }
 ],
 "metadata": {
  "kernelspec": {
   "display_name": "tensor_test",
   "language": "python",
   "name": "tensor_test"
  },
  "language_info": {
   "codemirror_mode": {
    "name": "ipython",
    "version": 3
   },
   "file_extension": ".py",
   "mimetype": "text/x-python",
   "name": "python",
   "nbconvert_exporter": "python",
   "pygments_lexer": "ipython3",
   "version": "3.6.6"
  }
 },
 "nbformat": 4,
 "nbformat_minor": 2
}
