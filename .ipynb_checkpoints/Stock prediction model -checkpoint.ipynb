{
 "cells": [
  {
   "cell_type": "markdown",
   "metadata": {},
   "source": [
    "## The method of stock prediction with various analize method (For practice)\n",
    "- This is my python project for improving my skill\n",
    "- For stock prediction, the proposed method uses various algorithms such as statistical analysis, probability model and neural networks\n",
    "- The simple s&p500 data is used\n",
    "\n",
    "\n",
    "## 다양한 분석 기법을 활용한 주가 예측 방법 (연습) \n",
    "- 파이썬을 활용하여 다양한 분석 기법을 활용한 주가 예측 방법 구현 수행 (습작용)\n",
    "- 그냥 널리 알려져 있는 통계적 분석, 확률모델, 인공 신경망 등등 여러 방법 활용\n",
    "- 데이터 역시 단순한 종가 등 수학적 정보만 활용 \n",
    "- 어떤 분석 방법이 예측력이 좋은지, 어떻게 하면 예측력을 높일 수 있는지 등"
   ]
  },
  {
   "cell_type": "code",
   "execution_count": null,
   "metadata": {},
   "outputs": [],
   "source": []
  }
 ],
 "metadata": {
  "kernelspec": {
   "display_name": "tensor_test",
   "language": "python",
   "name": "tensor_test"
  },
  "language_info": {
   "codemirror_mode": {
    "name": "ipython",
    "version": 3
   },
   "file_extension": ".py",
   "mimetype": "text/x-python",
   "name": "python",
   "nbconvert_exporter": "python",
   "pygments_lexer": "ipython3",
   "version": "3.6.6"
  }
 },
 "nbformat": 4,
 "nbformat_minor": 2
}
